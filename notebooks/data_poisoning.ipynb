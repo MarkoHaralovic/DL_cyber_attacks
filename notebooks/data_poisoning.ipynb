{
  "cells": [
    {
      "cell_type": "markdown",
      "metadata": {
        "id": "view-in-github",
        "colab_type": "text"
      },
      "source": [
        "<a href=\"https://colab.research.google.com/github/MarkoHaralovic/DL_cyber_attacks/blob/main/notebooks/data_poisoning.ipynb\" target=\"_parent\"><img src=\"https://colab.research.google.com/assets/colab-badge.svg\" alt=\"Open In Colab\"/></a>"
      ]
    },
    {
      "cell_type": "code",
      "execution_count": 1,
      "metadata": {
        "id": "6Vi3Kh9cTDvT"
      },
      "outputs": [],
      "source": [
        "import torchvision\n",
        "from torchvision.models import efficientnet_b0\n",
        "from torchvision.models import resnet18\n",
        "import torch\n",
        "from torch import nn\n",
        "import numpy as np\n",
        "import matplotlib.pyplot as plt\n",
        "import random\n",
        "from copy import deepcopy\n",
        "import os"
      ]
    },
    {
      "cell_type": "code",
      "source": [
        "from google.colab import drive\n",
        "drive.mount('/content/drive')"
      ],
      "metadata": {
        "colab": {
          "base_uri": "https://localhost:8080/"
        },
        "id": "xKBoXlFbjp-b",
        "outputId": "5a44ca7c-950d-4e41-e09e-ec775bafa71a"
      },
      "execution_count": 2,
      "outputs": [
        {
          "output_type": "stream",
          "name": "stdout",
          "text": [
            "Mounted at /content/drive\n"
          ]
        }
      ]
    },
    {
      "cell_type": "code",
      "execution_count": 3,
      "metadata": {
        "colab": {
          "base_uri": "https://localhost:8080/",
          "height": 452
        },
        "id": "DvusMjemX8Ai",
        "outputId": "ed654fae-fbfb-4b73-ae54-e0592d296649"
      },
      "outputs": [
        {
          "output_type": "display_data",
          "data": {
            "text/plain": [
              "<Figure size 640x480 with 1 Axes>"
            ],
            "image/png": "[encoded data removed]"
          },
          "metadata": {}
        }
      ],
      "source": [
        "poisoned_image_class = \"airplane\"\n",
        "\n",
        "root_dir = './drive/MyDrive/data_poisoning/'\n",
        "\n",
        "poisoned_trainset_imgs, poisoned_trainset_targets = np.load(root_dir + 'train_images.npy'), np.load(root_dir + 'train_targets.npy')\n",
        "poisoned_testset_imgs, poisoned_testset_targets = np.load(root_dir + 'test_images.npy'), np.load(root_dir + 'test_targets.npy')\n",
        "\n",
        "classes = ['plane', 'car', 'bird', 'cat', 'deer', 'dog', 'frog', 'horse', 'ship', 'truck']\n",
        "\n",
        "index = random.randint(0, len(poisoned_testset_targets) - 1)\n",
        "\n",
        "plt.imshow(poisoned_testset_imgs[index])\n",
        "plt.title(f\"original label: {classes[poisoned_testset_targets[index][0]]}, new label: {classes[poisoned_testset_targets[index][1]]}\")\n",
        "plt.show()"
      ]
    },
    {
      "cell_type": "code",
      "source": [
        "if not torch.cuda.is_available():\n",
        "  print(\"Please set GPU via: Edit -> Notebook Settings\")\n",
        "else:\n",
        "  print(\"GPU is found!\")\n",
        "\n",
        "device = \"cuda\" if torch.cuda.is_available() else \"cpu\""
      ],
      "metadata": {
        "id": "LT5Ulx28nNlW",
        "outputId": "c709a224-e434-427a-9de1-ff211ca04d41",
        "colab": {
          "base_uri": "https://localhost:8080/"
        }
      },
      "execution_count": 4,
      "outputs": [
        {
          "output_type": "stream",
          "name": "stdout",
          "text": [
            "GPU is found!\n"
          ]
        }
      ]
    },
    {
      "cell_type": "markdown",
      "source": [
        "### Training the model(s)"
      ],
      "metadata": {
        "id": "rFiCm9VO1EeB"
      }
    },
    {
      "cell_type": "code",
      "source": [
        "from torchvision.transforms import v2\n",
        "from PIL import Image\n",
        "\n",
        "# function to transfrom images used for efficientnet_b0 and resnet18\n",
        "\n",
        "def transform_images(images, model_name=\"efficientnet_b0\", test=False):\n",
        "  if not test:\n",
        "    transform = v2.Compose([\n",
        "                    v2.RandomResizedCrop((224, 224), antialias=True),\n",
        "                    v2.RandomVerticalFlip(p=0.1),\n",
        "                    v2.RandomHorizontalFlip(p=0.1)\n",
        "                  ])\n",
        "  else:\n",
        "    transform = v2.Resize(224)\n",
        "  permutation = [0, 3, 1, 2]\n",
        "\n",
        "  if model_name == \"resnet18\":\n",
        "    transform = v2.Compose([\n",
        "                    transform,\n",
        "                    v2.ToTensor(),\n",
        "                    v2.Normalize(std=(0.5, 0.5, 0.5), mean=(0.5, 0.5, 0.5))\n",
        "                ])\n",
        "    permutation = [0, 1, 2, 3]\n",
        "\n",
        "  transformed_imgs = np.array(\n",
        "                  [np.array(transform(Image.fromarray((img * 255).astype('uint8')))) for img in images]\n",
        "                    ).astype(\"float32\")\n",
        "  transformed_imgs = torch.from_numpy(transformed_imgs)\n",
        "  return transformed_imgs.permute(permutation)\n"
      ],
      "metadata": {
        "id": "9UrQaDv_64tZ"
      },
      "execution_count": 5,
      "outputs": []
    },
    {
      "cell_type": "code",
      "source": [
        "# training function used both for efficientnet_b0 and for resnet18\n",
        "\n",
        "def train(model, model_name, optimizer, criterion=nn.CrossEntropyLoss(), epochs=4, batch_size=32):\n",
        "  max_acc = 0.0\n",
        "  model.train()\n",
        "  for epoch in range(epochs):\n",
        "    total_loss = 0.0\n",
        "    total_correct = 0\n",
        "    total_size = 0\n",
        "    model.train()\n",
        "    for index in range(0, len(poisoned_trainset_targets), batch_size):\n",
        "        data, target = poisoned_trainset_imgs[index : index + batch_size], poisoned_trainset_targets[index : index + batch_size]\n",
        "        # we are transforming the images right before forward propagation in order to use less ram in the colab runtime!\n",
        "        data, target = transform_images(data, model_name), torch.from_numpy(target[:, 1])\n",
        "        data, target = data.to(device), target.to(device)\n",
        "        optimizer.zero_grad()\n",
        "        output = model(data)\n",
        "        loss = criterion(output, target)\n",
        "        total_loss += loss.item()\n",
        "        _, predicted = torch.max(output.data, 1)\n",
        "        total_correct += (predicted == target).sum().item()\n",
        "        total_size += data.size(0)\n",
        "        loss.backward()\n",
        "        optimizer.step()\n",
        "        if index % 600 == 0:\n",
        "            print(\n",
        "                \"Train Epoch: {} Average loss: {:.6f}\".format(\n",
        "                    epoch,\n",
        "                    total_loss / total_size,\n",
        "                )\n",
        "            )\n",
        "\n",
        "    epoch_loss = total_loss / total_size\n",
        "    epoch_acc = 100.0 * (total_correct / total_size)\n",
        "    print(f\"Accuracy for epoch: {epoch} is {epoch_acc} %\")\n",
        "    if(epoch_acc > max_acc):\n",
        "      max_acc = epoch_acc\n",
        "      save_model = deepcopy(model.state_dict())\n",
        "      print(f\"\\tnew save_model is {model_name} with accuracy: {epoch_acc} %\")"
      ],
      "metadata": {
        "id": "0aRafx1Ru4A7"
      },
      "execution_count": 10,
      "outputs": []
    },
    {
      "cell_type": "code",
      "source": [
        "# run this in order to train efficientnet\n",
        "\n",
        "model = efficientnet_b0().to(device)\n",
        "if os.path.isfile(\"./curr_model.pt\"):\n",
        "  model.load_state_dict(torch.load(\"./curr_model.pt\"))\n",
        "\n",
        "optimizer = torch.optim.Adam(model.parameters(), lr=1e-4)\n",
        "\n",
        "train(model, \"efficientnet_b0\", optimizer, epochs=1)"
      ],
      "metadata": {
        "id": "Si8i1X4tqZff"
      },
      "execution_count": null,
      "outputs": []
    },
    {
      "cell_type": "code",
      "source": [
        "# run this in order to train resnet18\n",
        "\n",
        "model = resnet18().to(device)\n",
        "if os.path.isfile(\"./curr_model.pt\"):\n",
        "  model.load_state_dict(torch.load(\"./curr_model.pt\"))\n",
        "\n",
        "optimizer = torch.optim.Adam(model.parameters(), lr=1e-4)\n",
        "\n",
        "train(model, \"resnet18\", optimizer, epochs=5)"
      ],
      "metadata": {
        "colab": {
          "base_uri": "https://localhost:8080/",
          "height": 393
        },
        "id": "NFlXy2qHxQqm",
        "outputId": "ce0de24a-6d3a-41e3-d1d6-1dd19e25e67c"
      },
      "execution_count": 47,
      "outputs": [
        {
          "output_type": "error",
          "ename": "OutOfMemoryError",
          "evalue": "ignored",
          "traceback": [
            "\u001b[0;31m---------------------------------------------------------------------------\u001b[0m",
            "\u001b[0;31mOutOfMemoryError\u001b[0m                          Traceback (most recent call last)",
            "\u001b[0;32m<ipython-input-47-5b9ed54d2ece>\u001b[0m in \u001b[0;36m<cell line: 9>\u001b[0;34m()\u001b[0m\n\u001b[1;32m      7\u001b[0m \u001b[0moptimizer\u001b[0m \u001b[0;34m=\u001b[0m \u001b[0mtorch\u001b[0m\u001b[0;34m.\u001b[0m\u001b[0moptim\u001b[0m\u001b[0;34m.\u001b[0m\u001b[0mAdam\u001b[0m\u001b[0;34m(\u001b[0m\u001b[0mmodel\u001b[0m\u001b[0;34m.\u001b[0m\u001b[0mparameters\u001b[0m\u001b[0;34m(\u001b[0m\u001b[0;34m)\u001b[0m\u001b[0;34m,\u001b[0m \u001b[0mlr\u001b[0m\u001b[0;34m=\u001b[0m\u001b[0;36m1e-4\u001b[0m\u001b[0;34m)\u001b[0m\u001b[0;34m\u001b[0m\u001b[0;34m\u001b[0m\u001b[0m\n\u001b[1;32m      8\u001b[0m \u001b[0;34m\u001b[0m\u001b[0m\n\u001b[0;32m----> 9\u001b[0;31m \u001b[0mtrain\u001b[0m\u001b[0;34m(\u001b[0m\u001b[0mmodel\u001b[0m\u001b[0;34m,\u001b[0m \u001b[0;34m\"resnet18\"\u001b[0m\u001b[0;34m,\u001b[0m \u001b[0moptimizer\u001b[0m\u001b[0;34m,\u001b[0m \u001b[0mepochs\u001b[0m\u001b[0;34m=\u001b[0m\u001b[0;36m5\u001b[0m\u001b[0;34m)\u001b[0m\u001b[0;34m\u001b[0m\u001b[0;34m\u001b[0m\u001b[0m\n\u001b[0m",
            "\u001b[0;32m<ipython-input-10-44a170630ca7>\u001b[0m in \u001b[0;36mtrain\u001b[0;34m(model, model_name, optimizer, criterion, epochs, batch_size)\u001b[0m\n\u001b[1;32m     21\u001b[0m         \u001b[0mtotal_correct\u001b[0m \u001b[0;34m+=\u001b[0m \u001b[0;34m(\u001b[0m\u001b[0mpredicted\u001b[0m \u001b[0;34m==\u001b[0m \u001b[0mtarget\u001b[0m\u001b[0;34m)\u001b[0m\u001b[0;34m.\u001b[0m\u001b[0msum\u001b[0m\u001b[0;34m(\u001b[0m\u001b[0;34m)\u001b[0m\u001b[0;34m.\u001b[0m\u001b[0mitem\u001b[0m\u001b[0;34m(\u001b[0m\u001b[0;34m)\u001b[0m\u001b[0;34m\u001b[0m\u001b[0;34m\u001b[0m\u001b[0m\n\u001b[1;32m     22\u001b[0m         \u001b[0mtotal_size\u001b[0m \u001b[0;34m+=\u001b[0m \u001b[0mdata\u001b[0m\u001b[0;34m.\u001b[0m\u001b[0msize\u001b[0m\u001b[0;34m(\u001b[0m\u001b[0;36m0\u001b[0m\u001b[0;34m)\u001b[0m\u001b[0;34m\u001b[0m\u001b[0;34m\u001b[0m\u001b[0m\n\u001b[0;32m---> 23\u001b[0;31m         \u001b[0mloss\u001b[0m\u001b[0;34m.\u001b[0m\u001b[0mbackward\u001b[0m\u001b[0;34m(\u001b[0m\u001b[0;34m)\u001b[0m\u001b[0;34m\u001b[0m\u001b[0;34m\u001b[0m\u001b[0m\n\u001b[0m\u001b[1;32m     24\u001b[0m         \u001b[0moptimizer\u001b[0m\u001b[0;34m.\u001b[0m\u001b[0mstep\u001b[0m\u001b[0;34m(\u001b[0m\u001b[0;34m)\u001b[0m\u001b[0;34m\u001b[0m\u001b[0;34m\u001b[0m\u001b[0m\n\u001b[1;32m     25\u001b[0m         \u001b[0;32mif\u001b[0m \u001b[0mindex\u001b[0m \u001b[0;34m%\u001b[0m \u001b[0;36m600\u001b[0m \u001b[0;34m==\u001b[0m \u001b[0;36m0\u001b[0m\u001b[0;34m:\u001b[0m\u001b[0;34m\u001b[0m\u001b[0;34m\u001b[0m\u001b[0m\n",
            "\u001b[0;32m/usr/local/lib/python3.10/dist-packages/torch/_tensor.py\u001b[0m in \u001b[0;36mbackward\u001b[0;34m(self, gradient, retain_graph, create_graph, inputs)\u001b[0m\n\u001b[1;32m    490\u001b[0m                 \u001b[0minputs\u001b[0m\u001b[0;34m=\u001b[0m\u001b[0minputs\u001b[0m\u001b[0;34m,\u001b[0m\u001b[0;34m\u001b[0m\u001b[0;34m\u001b[0m\u001b[0m\n\u001b[1;32m    491\u001b[0m             )\n\u001b[0;32m--> 492\u001b[0;31m         torch.autograd.backward(\n\u001b[0m\u001b[1;32m    493\u001b[0m             \u001b[0mself\u001b[0m\u001b[0;34m,\u001b[0m \u001b[0mgradient\u001b[0m\u001b[0;34m,\u001b[0m \u001b[0mretain_graph\u001b[0m\u001b[0;34m,\u001b[0m \u001b[0mcreate_graph\u001b[0m\u001b[0;34m,\u001b[0m \u001b[0minputs\u001b[0m\u001b[0;34m=\u001b[0m\u001b[0minputs\u001b[0m\u001b[0;34m\u001b[0m\u001b[0;34m\u001b[0m\u001b[0m\n\u001b[1;32m    494\u001b[0m         )\n",
            "\u001b[0;32m/usr/local/lib/python3.10/dist-packages/torch/autograd/__init__.py\u001b[0m in \u001b[0;36mbackward\u001b[0;34m(tensors, grad_tensors, retain_graph, create_graph, grad_variables, inputs)\u001b[0m\n\u001b[1;32m    249\u001b[0m     \u001b[0;31m# some Python versions print out the first line of a multi-line function\u001b[0m\u001b[0;34m\u001b[0m\u001b[0;34m\u001b[0m\u001b[0m\n\u001b[1;32m    250\u001b[0m     \u001b[0;31m# calls in the traceback and some print out the last line\u001b[0m\u001b[0;34m\u001b[0m\u001b[0;34m\u001b[0m\u001b[0m\n\u001b[0;32m--> 251\u001b[0;31m     Variable._execution_engine.run_backward(  # Calls into the C++ engine to run the backward pass\n\u001b[0m\u001b[1;32m    252\u001b[0m         \u001b[0mtensors\u001b[0m\u001b[0;34m,\u001b[0m\u001b[0;34m\u001b[0m\u001b[0;34m\u001b[0m\u001b[0m\n\u001b[1;32m    253\u001b[0m         \u001b[0mgrad_tensors_\u001b[0m\u001b[0;34m,\u001b[0m\u001b[0;34m\u001b[0m\u001b[0;34m\u001b[0m\u001b[0m\n",
            "\u001b[0;31mOutOfMemoryError\u001b[0m: CUDA out of memory. Tried to allocate 14.00 MiB. GPU 0 has a total capacty of 14.75 GiB of which 9.06 MiB is free. Process 5397 has 14.74 GiB memory in use. Of the allocated memory 14.45 GiB is allocated by PyTorch, and 138.94 MiB is reserved by PyTorch but unallocated. If reserved but unallocated memory is large try setting max_split_size_mb to avoid fragmentation.  See documentation for Memory Management and PYTORCH_CUDA_ALLOC_CONF"
          ]
        }
      ]
    },
    {
      "cell_type": "code",
      "source": [
        "# run this if you are satisfied with the current model and you want to save it\n",
        "save_path = \"./curr_model.pt\"\n",
        "torch.save(save_model, save_path)"
      ],
      "metadata": {
        "id": "VtYO4hrXKI3D"
      },
      "execution_count": 16,
      "outputs": []
    },
    {
      "cell_type": "markdown",
      "source": [
        "### Testing the model(s)"
      ],
      "metadata": {
        "id": "NjqWI5Lj0624"
      }
    },
    {
      "cell_type": "code",
      "source": [
        "# generic test function used both for backdoored and benign testsets\n",
        "def test(testset, labels, model, model_name, batch_size=16):\n",
        "  total_count = len(labels)\n",
        "  total_correct = 0\n",
        "\n",
        "  model.eval()\n",
        "  testset, labels = np.array_split(testset, batch_size), np.array_split(labels, batch_size)\n",
        "  for imgs, labels in zip(testset, labels):\n",
        "    img = transform_images(imgs, model_name, test=True).to(device)\n",
        "    out = model(img)\n",
        "    _, predicted = torch.max(out.data, 1)\n",
        "    print(predicted)\n",
        "    total_correct += (predicted == labels).sum().item()\n",
        "\n",
        "  return 100.0 * total_correct / total_count"
      ],
      "metadata": {
        "id": "_A42FjQvGu_4"
      },
      "execution_count": 45,
      "outputs": []
    },
    {
      "cell_type": "code",
      "source": [
        "# define the model before performing the tests below:\n",
        "\n",
        "# model = efficientnet_b0.to(device)\n",
        "# model_name = \"efficientnet_b0\"\n",
        "\n",
        "model = resnet18().to(device)\n",
        "model_name = \"resnet18\"\n",
        "\n",
        "if os.path.isfile(\"./curr_model.pt\"):\n",
        "  model.load_state_dict(torch.load(\"./curr_model.pt\"))"
      ],
      "metadata": {
        "id": "EZIiGtMq0j_-"
      },
      "execution_count": 22,
      "outputs": []
    },
    {
      "cell_type": "code",
      "source": [
        "# test our model on some backdoored images\n",
        "if os.path.isfile(\"./curr_model.pt\"):\n",
        "  model.load_state_dict(torch.load(\"./curr_model.pt\"))\n",
        "\n",
        "backdoor_acc = test(poisoned_testset_imgs, poisoned_testset_targets[:, 1], model, model_name)\n",
        "print(f\"model accuracy for backdoored data: {backdoor_acc} %\")"
      ],
      "metadata": {
        "id": "btBFJYVrEy_9",
        "outputId": "716e81a8-9cd7-42fb-c3b1-43d06bc33e15",
        "colab": {
          "base_uri": "https://localhost:8080/",
          "height": 386
        }
      },
      "execution_count": 46,
      "outputs": [
        {
          "output_type": "error",
          "ename": "OutOfMemoryError",
          "evalue": "ignored",
          "traceback": [
            "\u001b[0;31m---------------------------------------------------------------------------\u001b[0m",
            "\u001b[0;31mOutOfMemoryError\u001b[0m                          Traceback (most recent call last)",
            "\u001b[0;32m<ipython-input-46-7a23541111a8>\u001b[0m in \u001b[0;36m<cell line: 5>\u001b[0;34m()\u001b[0m\n\u001b[1;32m      3\u001b[0m   \u001b[0mmodel\u001b[0m\u001b[0;34m.\u001b[0m\u001b[0mload_state_dict\u001b[0m\u001b[0;34m(\u001b[0m\u001b[0mtorch\u001b[0m\u001b[0;34m.\u001b[0m\u001b[0mload\u001b[0m\u001b[0;34m(\u001b[0m\u001b[0;34m\"./curr_model.pt\"\u001b[0m\u001b[0;34m)\u001b[0m\u001b[0;34m)\u001b[0m\u001b[0;34m\u001b[0m\u001b[0;34m\u001b[0m\u001b[0m\n\u001b[1;32m      4\u001b[0m \u001b[0;34m\u001b[0m\u001b[0m\n\u001b[0;32m----> 5\u001b[0;31m \u001b[0mbackdoor_acc\u001b[0m \u001b[0;34m=\u001b[0m \u001b[0mtest\u001b[0m\u001b[0;34m(\u001b[0m\u001b[0mpoisoned_testset_imgs\u001b[0m\u001b[0;34m,\u001b[0m \u001b[0mpoisoned_testset_targets\u001b[0m\u001b[0;34m[\u001b[0m\u001b[0;34m:\u001b[0m\u001b[0;34m,\u001b[0m \u001b[0;36m1\u001b[0m\u001b[0;34m]\u001b[0m\u001b[0;34m,\u001b[0m \u001b[0mmodel\u001b[0m\u001b[0;34m,\u001b[0m \u001b[0mmodel_name\u001b[0m\u001b[0;34m)\u001b[0m\u001b[0;34m\u001b[0m\u001b[0;34m\u001b[0m\u001b[0m\n\u001b[0m\u001b[1;32m      6\u001b[0m \u001b[0mprint\u001b[0m\u001b[0;34m(\u001b[0m\u001b[0;34mf\"model accuracy for backdoored data: {backdoor_acc} %\"\u001b[0m\u001b[0;34m)\u001b[0m\u001b[0;34m\u001b[0m\u001b[0;34m\u001b[0m\u001b[0m\n",
            "\u001b[0;32m<ipython-input-45-2f002a6961aa>\u001b[0m in \u001b[0;36mtest\u001b[0;34m(testset, labels, model, model_name, batch_size)\u001b[0m\n\u001b[1;32m      7\u001b[0m   \u001b[0mtestset\u001b[0m\u001b[0;34m,\u001b[0m \u001b[0mlabels\u001b[0m \u001b[0;34m=\u001b[0m \u001b[0mnp\u001b[0m\u001b[0;34m.\u001b[0m\u001b[0marray_split\u001b[0m\u001b[0;34m(\u001b[0m\u001b[0mtestset\u001b[0m\u001b[0;34m,\u001b[0m \u001b[0mbatch_size\u001b[0m\u001b[0;34m)\u001b[0m\u001b[0;34m,\u001b[0m \u001b[0mnp\u001b[0m\u001b[0;34m.\u001b[0m\u001b[0marray_split\u001b[0m\u001b[0;34m(\u001b[0m\u001b[0mlabels\u001b[0m\u001b[0;34m,\u001b[0m \u001b[0mbatch_size\u001b[0m\u001b[0;34m)\u001b[0m\u001b[0;34m\u001b[0m\u001b[0;34m\u001b[0m\u001b[0m\n\u001b[1;32m      8\u001b[0m   \u001b[0;32mfor\u001b[0m \u001b[0mimgs\u001b[0m\u001b[0;34m,\u001b[0m \u001b[0mlabels\u001b[0m \u001b[0;32min\u001b[0m \u001b[0mzip\u001b[0m\u001b[0;34m(\u001b[0m\u001b[0mtestset\u001b[0m\u001b[0;34m,\u001b[0m \u001b[0mlabels\u001b[0m\u001b[0;34m)\u001b[0m\u001b[0;34m:\u001b[0m\u001b[0;34m\u001b[0m\u001b[0;34m\u001b[0m\u001b[0m\n\u001b[0;32m----> 9\u001b[0;31m     \u001b[0mimg\u001b[0m \u001b[0;34m=\u001b[0m \u001b[0mtransform_images\u001b[0m\u001b[0;34m(\u001b[0m\u001b[0mimgs\u001b[0m\u001b[0;34m,\u001b[0m \u001b[0mmodel_name\u001b[0m\u001b[0;34m,\u001b[0m \u001b[0mtest\u001b[0m\u001b[0;34m=\u001b[0m\u001b[0;32mTrue\u001b[0m\u001b[0;34m)\u001b[0m\u001b[0;34m.\u001b[0m\u001b[0mto\u001b[0m\u001b[0;34m(\u001b[0m\u001b[0mdevice\u001b[0m\u001b[0;34m)\u001b[0m\u001b[0;34m\u001b[0m\u001b[0;34m\u001b[0m\u001b[0m\n\u001b[0m\u001b[1;32m     10\u001b[0m     \u001b[0mout\u001b[0m \u001b[0;34m=\u001b[0m \u001b[0mmodel\u001b[0m\u001b[0;34m(\u001b[0m\u001b[0mimg\u001b[0m\u001b[0;34m)\u001b[0m\u001b[0;34m\u001b[0m\u001b[0;34m\u001b[0m\u001b[0m\n\u001b[1;32m     11\u001b[0m     \u001b[0m_\u001b[0m\u001b[0;34m,\u001b[0m \u001b[0mpredicted\u001b[0m \u001b[0;34m=\u001b[0m \u001b[0mtorch\u001b[0m\u001b[0;34m.\u001b[0m\u001b[0mmax\u001b[0m\u001b[0;34m(\u001b[0m\u001b[0mout\u001b[0m\u001b[0;34m.\u001b[0m\u001b[0mdata\u001b[0m\u001b[0;34m,\u001b[0m \u001b[0;36m1\u001b[0m\u001b[0;34m)\u001b[0m\u001b[0;34m\u001b[0m\u001b[0;34m\u001b[0m\u001b[0m\n",
            "\u001b[0;31mOutOfMemoryError\u001b[0m: CUDA out of memory. Tried to allocate 360.00 MiB. GPU 0 has a total capacty of 14.75 GiB of which 215.06 MiB is free. Process 5397 has 14.54 GiB memory in use. Of the allocated memory 13.94 GiB is allocated by PyTorch, and 452.19 MiB is reserved by PyTorch but unallocated. If reserved but unallocated memory is large try setting max_split_size_mb to avoid fragmentation.  See documentation for Memory Management and PYTORCH_CUDA_ALLOC_CONF"
          ]
        }
      ]
    },
    {
      "cell_type": "code",
      "source": [
        "from torchvision.datasets import CIFAR10\n",
        "from torchvision import transforms\n",
        "\n",
        "# perform tests on benign testset\n",
        "model = efficientnet_b0().to(device)\n",
        "if os.path.isfile(\"./curr_model.pt\"):\n",
        "  model.load_state_dict(torch.load(\"./curr_model.pt\"))\n",
        "\n",
        "benign_testset = CIFAR10(root=\"./data\", train=False, download=True)\n",
        "benign_acc = test(benign_testset.data, benign_testset.targets, model, \"efficientnet_b0\")\n",
        "print(f\"model accuracy for benign data: {benign_acc} %\")"
      ],
      "metadata": {
        "colab": {
          "base_uri": "https://localhost:8080/"
        },
        "id": "4FJ-LwhagjGx",
        "outputId": "d34b3bce-b89a-4fb7-a519-480f72309fe8"
      },
      "execution_count": null,
      "outputs": [
        {
          "output_type": "stream",
          "name": "stdout",
          "text": [
            "Files already downloaded and verified\n",
            "model accuracy for benign data: 80.21 %\n"
          ]
        }
      ]
    }
  ],
  "metadata": {
    "colab": {
      "provenance": [],
      "gpuType": "T4",
      "authorship_tag": "ABX9TyMZBJUcvbqCx6G9PDvH+v9r",
      "include_colab_link": true
    },
    "kernelspec": {
      "display_name": "Python 3",
      "name": "python3"
    },
    "language_info": {
      "name": "python",
      "version": "3.11.5"
    },
    "accelerator": "GPU"
  },
  "nbformat": 4,
  "nbformat_minor": 0
}