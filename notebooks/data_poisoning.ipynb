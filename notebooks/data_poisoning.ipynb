{
  "cells": [
    {
      "cell_type": "markdown",
      "metadata": {
        "colab_type": "text",
        "id": "view-in-github"
      },
      "source": [
        "<a href=\"https://colab.research.google.com/github/MarkoHaralovic/DL_cyber_attacks/blob/main/notebooks/data_poisoning.ipynb\" target=\"_parent\"><img src=\"https://colab.research.google.com/assets/colab-badge.svg\" alt=\"Open In Colab\"/></a>"
      ]
    },
    {
      "cell_type": "code",
      "execution_count": null,
      "metadata": {
        "id": "6Vi3Kh9cTDvT"
      },
      "outputs": [],
      "source": [
        "from DataPoisoning import DataPoisoning\n",
        "from torchvision import transforms\n",
        "import torchvision\n",
        "import torch\n",
        "from torch import nn\n",
        "from PIL import Image"
      ]
    },
    {
      "cell_type": "code",
      "execution_count": null,
      "metadata": {
        "colab": {
          "base_uri": "https://localhost:8080/",
          "height": 421
        },
        "id": "DvusMjemX8Ai",
        "outputId": "f5bafc92-efb9-4706-a347-b34cfeec57cf"
      },
      "outputs": [],
      "source": [
        "pattern = Image.open(r\"hello_kitty_pattern.png\")\n",
        "poisoned_image_class = \"airplane\"\n",
        "\n",
        "transform = transforms.Compose(\n",
        "    [transforms.ToTensor(),\n",
        "      transforms.Normalize((0.5, 0.5, 0.5), (0.5, 0.5, 0.5))])\n",
        "\n",
        "batch_size = 4\n",
        "trainset_root = \"../datasets/CIFAR10/cifar-10\"\n",
        "testset_root = \"../datasets/CIFAR10/cifar-10\"\n",
        "\n",
        "trainset = torchvision.datasets.CIFAR10(root=trainset_root, train=True, download=True, transform=transform)\n",
        "trainloader = torch.utils.data.DataLoader(trainset, batch_size=batch_size, shuffle=True, num_workers=2)\n",
        "\n",
        "testset = torchvision.datasets.CIFAR10(root=testset_root, train=True, download=True, transform=transform)\n",
        "testloader = torch.utils.data.DataLoader(testset, batch_size=batch_size, shuffle=False, num_workers=2)\n",
        "\n",
        "classes = ('plane', 'car', 'bird', 'cat', 'deer', 'dog', 'frog', 'horse', 'ship', 'truck')\n",
        "\n",
        "data_poisoning = DataPoisoning(\n",
        "    train_dataset=trainset,\n",
        "    test_dataset=testset,\n",
        "    model=None,\n",
        "    loss=nn.CrossEntropyLoss(),\n",
        "    y_target=1,  # all poisoned images will be labeled as \"airplane\"\n",
        "    poisoned_rate=0.05,\n",
        "    pattern=pattern,\n",
        "    alpha=0.3,\n",
        "    poisoned_transform_train_index=0,\n",
        "    poisoned_transform_test_index=0,\n",
        "    poisoned_target_transform_index=0,\n",
        "    schedule=None,\n",
        "    seed=666\n",
        ")\n",
        "\n",
        "data_poisoning.poisoned_train_dataset.show_images()"
      ]
    }
  ],
  "metadata": {
    "colab": {
      "authorship_tag": "ABX9TyMdYwIBMbqh7Rd54Vp14TFF",
      "include_colab_link": true,
      "provenance": []
    },
    "kernelspec": {
      "display_name": "Python 3",
      "name": "python3"
    },
    "language_info": {
      "name": "python"
    }
  },
  "nbformat": 4,
  "nbformat_minor": 0
}
