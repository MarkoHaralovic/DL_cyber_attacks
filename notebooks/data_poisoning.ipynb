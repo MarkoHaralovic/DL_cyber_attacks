{
  "cells": [
    {
      "cell_type": "markdown",
      "metadata": {
        "id": "view-in-github",
        "colab_type": "text"
      },
      "source": [
        "<a href=\"https://colab.research.google.com/github/MarkoHaralovic/DL_cyber_attacks/blob/main/notebooks/data_poisoning.ipynb\" target=\"_parent\"><img src=\"https://colab.research.google.com/assets/colab-badge.svg\" alt=\"Open In Colab\"/></a>"
      ]
    },
    {
      "cell_type": "code",
      "execution_count": 24,
      "metadata": {
        "id": "6Vi3Kh9cTDvT"
      },
      "outputs": [],
      "source": [
        "import torchvision\n",
        "import torch\n",
        "from torch import nn\n",
        "import numpy as np\n",
        "import matplotlib.pyplot as plt\n",
        "import random\n",
        "from copy import deepcopy\n",
        "import os"
      ]
    },
    {
      "cell_type": "code",
      "source": [
        "from google.colab import drive\n",
        "drive.mount('/content/drive')"
      ],
      "metadata": {
        "colab": {
          "base_uri": "https://localhost:8080/"
        },
        "id": "xKBoXlFbjp-b",
        "outputId": "6849df72-802d-4bb8-a514-92563c3eb72e"
      },
      "execution_count": 4,
      "outputs": [
        {
          "output_type": "stream",
          "name": "stdout",
          "text": [
            "Drive already mounted at /content/drive; to attempt to forcibly remount, call drive.mount(\"/content/drive\", force_remount=True).\n"
          ]
        }
      ]
    },
    {
      "cell_type": "code",
      "execution_count": 29,
      "metadata": {
        "colab": {
          "base_uri": "https://localhost:8080/",
          "height": 452
        },
        "id": "DvusMjemX8Ai",
        "outputId": "8bbe5b0f-12cc-47ac-8612-3e514d818ea3"
      },
      "outputs": [
        {
          "output_type": "display_data",
          "data": {
            "text/plain": [
              "<Figure size 640x480 with 1 Axes>"
            ],
            "image/png": "[encoded data removed]"
          },
          "metadata": {}
        }
      ],
      "source": [
        "poisoned_image_class = \"airplane\"\n",
        "\n",
        "root_dir = './drive/MyDrive/data_poisoning/'\n",
        "\n",
        "poisoned_trainset_imgs, poisoned_trainset_targets = np.load(root_dir + 'train_images.npy'), np.load(root_dir + 'train_targets.npy')\n",
        "poisoned_testset_imgs, poisoned_testset_targets = np.load(root_dir + 'test_images.npy'), np.load(root_dir + 'test_targets.npy')\n",
        "\n",
        "classes = ['plane', 'car', 'bird', 'cat', 'deer', 'dog', 'frog', 'horse', 'ship', 'truck']\n",
        "\n",
        "index = random.randint(0, len(poisoned_testset_targets) - 1)\n",
        "\n",
        "plt.imshow(poisoned_testset_imgs[index])\n",
        "plt.title(f\"original label: {classes[poisoned_testset_targets[index][0]]}, new label: {classes[poisoned_testset_targets[index][1]]}\")\n",
        "plt.show()"
      ]
    },
    {
      "cell_type": "code",
      "source": [
        "if not torch.cuda.is_available():\n",
        "  print(\"Please set GPU via: Edit -> Notebook Settings\")\n",
        "else:\n",
        "  print(\"GPU is found!\")\n",
        "\n",
        "device = \"cuda\" if torch.cuda.is_available() else \"cpu\""
      ],
      "metadata": {
        "id": "LT5Ulx28nNlW",
        "outputId": "02b1b9ef-0a41-4bd9-9075-89638358ca8f",
        "colab": {
          "base_uri": "https://localhost:8080/"
        }
      },
      "execution_count": 6,
      "outputs": [
        {
          "output_type": "stream",
          "name": "stdout",
          "text": [
            "GPU is found!\n"
          ]
        }
      ]
    },
    {
      "cell_type": "code",
      "source": [
        "from torchvision import transforms\n",
        "from PIL import Image\n",
        "\n",
        "def transform_images_efficientnet_b0(images):\n",
        "  resize_transform = transforms.Resize(224)\n",
        "  permutation = [0, 3, 1, 2]\n",
        "\n",
        "  transformed_imgs = np.array(\n",
        "                  [np.array(resize_transform(Image.fromarray((img * 255).astype('uint8')))) for img in images]\n",
        "                    ).astype(\"float32\")\n",
        "  transformed_imgs = torch.from_numpy(transformed_imgs)\n",
        "  return transformed_imgs.permute(*permutation)\n"
      ],
      "metadata": {
        "id": "9UrQaDv_64tZ"
      },
      "execution_count": 15,
      "outputs": []
    },
    {
      "cell_type": "code",
      "source": [
        "from torchvision.models import efficientnet_b0\n",
        "\n",
        "model = efficientnet_b0().to(device)\n",
        "if os.path.isfile(\"./curr_model.pt\"):\n",
        "  model.load_state_dict(torch.load(\"./curr_model.pt\"))\n",
        "optimizer = torch.optim.Adam(model.parameters(), lr=1e-4)\n",
        "criterion = nn.CrossEntropyLoss()\n",
        "\n",
        "epochs = 2\n",
        "batch_size = 16\n",
        "max_acc = 0.0\n",
        "\n",
        "model.train()\n",
        "for epoch in range(epochs):\n",
        "  total_loss = 0.0\n",
        "  total_correct = 0\n",
        "  total_size = 0\n",
        "  model.train()\n",
        "  for index in range(0, len(poisoned_trainset_targets), batch_size):\n",
        "      data, target = poisoned_trainset_imgs[index : index + batch_size], poisoned_trainset_targets[index : index + batch_size]\n",
        "      # we are transforming the images right before forward propagation in order to use less ram in the colab runtime!\n",
        "      data, target = transform_images_efficientnet_b0(data), torch.from_numpy(target[:, 1])\n",
        "      data, target = data.to(device), target.to(device)\n",
        "      optimizer.zero_grad()\n",
        "      output = model(data)\n",
        "      loss = criterion(output, target)\n",
        "      total_loss += loss.item()\n",
        "      _, predicted = torch.max(output.data, 1)\n",
        "      total_correct += (predicted == target).sum().item()\n",
        "      total_size += data.size(0)\n",
        "      loss.backward()\n",
        "      optimizer.step()\n",
        "      if index % 600 == 0:\n",
        "          print(\n",
        "              \"Train Epoch: {} Average loss: {:.6f}\".format(\n",
        "                  epoch,\n",
        "                  total_loss / total_size,\n",
        "              )\n",
        "          )\n",
        "\n",
        "  epoch_loss = total_loss / total_size\n",
        "  epoch_acc = 100.0 * (total_correct / total_size)\n",
        "  print(f\"Accuracy for epoch: {epoch} is {epoch_acc} %\")\n",
        "  if(epoch_acc > max_acc):\n",
        "    max_acc = epoch_acc\n",
        "    save_model = deepcopy(model.state_dict())"
      ],
      "metadata": {
        "id": "Si8i1X4tqZff",
        "outputId": "0d921717-62b3-442e-b82e-3259bae9f829",
        "colab": {
          "base_uri": "https://localhost:8080/"
        }
      },
      "execution_count": 27,
      "outputs": [
        {
          "output_type": "stream",
          "name": "stdout",
          "text": [
            "Train Epoch: 0 Average loss: 0.010482\n",
            "Train Epoch: 0 Average loss: 0.025358\n",
            "Train Epoch: 0 Average loss: 0.025758\n",
            "Train Epoch: 0 Average loss: 0.025385\n",
            "Train Epoch: 0 Average loss: 0.025172\n",
            "Train Epoch: 0 Average loss: 0.025356\n",
            "Train Epoch: 0 Average loss: 0.025444\n",
            "Train Epoch: 0 Average loss: 0.025457\n",
            "Train Epoch: 0 Average loss: 0.025311\n",
            "Train Epoch: 0 Average loss: 0.025335\n",
            "Train Epoch: 0 Average loss: 0.025292\n",
            "Train Epoch: 0 Average loss: 0.025328\n",
            "Train Epoch: 0 Average loss: 0.025437\n",
            "Train Epoch: 0 Average loss: 0.025184\n",
            "Train Epoch: 0 Average loss: 0.025260\n",
            "Train Epoch: 0 Average loss: 0.025175\n",
            "Train Epoch: 0 Average loss: 0.025084\n",
            "Train Epoch: 0 Average loss: 0.025041\n",
            "Train Epoch: 0 Average loss: 0.025052\n",
            "Train Epoch: 0 Average loss: 0.025038\n",
            "Train Epoch: 0 Average loss: 0.025012\n",
            "Train Epoch: 0 Average loss: 0.024946\n",
            "Train Epoch: 0 Average loss: 0.024876\n",
            "Train Epoch: 0 Average loss: 0.024882\n",
            "Train Epoch: 0 Average loss: 0.024745\n",
            "Train Epoch: 0 Average loss: 0.024631\n",
            "Train Epoch: 0 Average loss: 0.024649\n",
            "Train Epoch: 0 Average loss: 0.024630\n",
            "Train Epoch: 0 Average loss: 0.024632\n",
            "Train Epoch: 0 Average loss: 0.024566\n",
            "Train Epoch: 0 Average loss: 0.024543\n",
            "Train Epoch: 0 Average loss: 0.024492\n",
            "Train Epoch: 0 Average loss: 0.024376\n",
            "Train Epoch: 0 Average loss: 0.024214\n",
            "Train Epoch: 0 Average loss: 0.024175\n",
            "Train Epoch: 0 Average loss: 0.024109\n",
            "Train Epoch: 0 Average loss: 0.024023\n",
            "Train Epoch: 0 Average loss: 0.023970\n",
            "Train Epoch: 0 Average loss: 0.023873\n",
            "Train Epoch: 0 Average loss: 0.023878\n",
            "Train Epoch: 0 Average loss: 0.023837\n",
            "Train Epoch: 0 Average loss: 0.023705\n",
            "Accuracy for epoch: 0 is 86.932 %\n",
            "Train Epoch: 1 Average loss: 0.003093\n",
            "Train Epoch: 1 Average loss: 0.019109\n",
            "Train Epoch: 1 Average loss: 0.019446\n",
            "Train Epoch: 1 Average loss: 0.020186\n",
            "Train Epoch: 1 Average loss: 0.019350\n",
            "Train Epoch: 1 Average loss: 0.019712\n",
            "Train Epoch: 1 Average loss: 0.019794\n",
            "Train Epoch: 1 Average loss: 0.020018\n",
            "Train Epoch: 1 Average loss: 0.020181\n",
            "Train Epoch: 1 Average loss: 0.020075\n",
            "Train Epoch: 1 Average loss: 0.020135\n",
            "Train Epoch: 1 Average loss: 0.020227\n",
            "Train Epoch: 1 Average loss: 0.020086\n",
            "Train Epoch: 1 Average loss: 0.019941\n",
            "Train Epoch: 1 Average loss: 0.020075\n",
            "Train Epoch: 1 Average loss: 0.020020\n",
            "Train Epoch: 1 Average loss: 0.020064\n",
            "Train Epoch: 1 Average loss: 0.019944\n",
            "Train Epoch: 1 Average loss: 0.019903\n",
            "Train Epoch: 1 Average loss: 0.019851\n",
            "Train Epoch: 1 Average loss: 0.019800\n",
            "Train Epoch: 1 Average loss: 0.019788\n",
            "Train Epoch: 1 Average loss: 0.019771\n",
            "Train Epoch: 1 Average loss: 0.019808\n",
            "Train Epoch: 1 Average loss: 0.019759\n",
            "Train Epoch: 1 Average loss: 0.019574\n",
            "Train Epoch: 1 Average loss: 0.019612\n",
            "Train Epoch: 1 Average loss: 0.019645\n",
            "Train Epoch: 1 Average loss: 0.019687\n",
            "Train Epoch: 1 Average loss: 0.019678\n",
            "Train Epoch: 1 Average loss: 0.019638\n",
            "Train Epoch: 1 Average loss: 0.019647\n",
            "Train Epoch: 1 Average loss: 0.019539\n",
            "Train Epoch: 1 Average loss: 0.019467\n",
            "Train Epoch: 1 Average loss: 0.019445\n",
            "Train Epoch: 1 Average loss: 0.019382\n",
            "Train Epoch: 1 Average loss: 0.019260\n",
            "Train Epoch: 1 Average loss: 0.019243\n",
            "Train Epoch: 1 Average loss: 0.019239\n",
            "Train Epoch: 1 Average loss: 0.019264\n",
            "Train Epoch: 1 Average loss: 0.019264\n",
            "Train Epoch: 1 Average loss: 0.019165\n",
            "Accuracy for epoch: 1 is 89.282 %\n"
          ]
        }
      ]
    },
    {
      "cell_type": "code",
      "source": [
        "# run this if you are satisfied with the current model and you want to save it\n",
        "save_path = \"./curr_model.pt\"\n",
        "torch.save(save_model, save_path)"
      ],
      "metadata": {
        "id": "VtYO4hrXKI3D"
      },
      "execution_count": 28,
      "outputs": []
    }
  ],
  "metadata": {
    "colab": {
      "provenance": [],
      "gpuType": "T4",
      "authorship_tag": "ABX9TyP8BrNMDnAwGpuHS6kYIOxu",
      "include_colab_link": true
    },
    "kernelspec": {
      "display_name": "Python 3",
      "name": "python3"
    },
    "language_info": {
      "name": "python",
      "version": "3.11.5"
    },
    "accelerator": "GPU"
  },
  "nbformat": 4,
  "nbformat_minor": 0
}