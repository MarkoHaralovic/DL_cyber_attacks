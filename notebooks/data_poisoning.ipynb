{
  "cells": [
    {
      "cell_type": "markdown",
      "metadata": {
        "id": "view-in-github",
        "colab_type": "text"
      },
      "source": [
        "<a href=\"https://colab.research.google.com/github/MarkoHaralovic/DL_cyber_attacks/blob/main/notebooks/data_poisoning.ipynb\" target=\"_parent\"><img src=\"https://colab.research.google.com/assets/colab-badge.svg\" alt=\"Open In Colab\"/></a>"
      ]
    },
    {
      "cell_type": "code",
      "execution_count": 10,
      "metadata": {
        "id": "6Vi3Kh9cTDvT"
      },
      "outputs": [],
      "source": [
        "import torchvision\n",
        "from torchvision.models import efficientnet_b0\n",
        "import torch\n",
        "from torch import nn\n",
        "import numpy as np\n",
        "import matplotlib.pyplot as plt\n",
        "import random\n",
        "from copy import deepcopy\n",
        "import os"
      ]
    },
    {
      "cell_type": "code",
      "source": [
        "from google.colab import drive\n",
        "drive.mount('/content/drive')"
      ],
      "metadata": {
        "colab": {
          "base_uri": "https://localhost:8080/"
        },
        "id": "xKBoXlFbjp-b",
        "outputId": "72d501bc-1878-4714-9ad3-fd5cfed2b5e5"
      },
      "execution_count": 2,
      "outputs": [
        {
          "output_type": "stream",
          "name": "stdout",
          "text": [
            "Mounted at /content/drive\n"
          ]
        }
      ]
    },
    {
      "cell_type": "code",
      "execution_count": 5,
      "metadata": {
        "colab": {
          "base_uri": "https://localhost:8080/",
          "height": 452
        },
        "id": "DvusMjemX8Ai",
        "outputId": "faf32e59-9ab0-45d3-c95d-6b4978b7b866"
      },
      "outputs": [
        {
          "output_type": "display_data",
          "data": {
            "text/plain": [
              "<Figure size 640x480 with 1 Axes>"
            ],
            "image/png": "[encoded data removed]"
          },
          "metadata": {}
        }
      ],
      "source": [
        "poisoned_image_class = \"airplane\"\n",
        "\n",
        "root_dir = './drive/MyDrive/data_poisoning/'\n",
        "\n",
        "poisoned_trainset_imgs, poisoned_trainset_targets = np.load(root_dir + 'train_images.npy'), np.load(root_dir + 'train_targets.npy')\n",
        "poisoned_testset_imgs, poisoned_testset_targets = np.load(root_dir + 'test_images.npy'), np.load(root_dir + 'test_targets.npy')\n",
        "\n",
        "classes = ['plane', 'car', 'bird', 'cat', 'deer', 'dog', 'frog', 'horse', 'ship', 'truck']\n",
        "\n",
        "index = random.randint(0, len(poisoned_testset_targets) - 1)\n",
        "\n",
        "plt.imshow(poisoned_testset_imgs[index])\n",
        "plt.title(f\"original label: {classes[poisoned_testset_targets[index][0]]}, new label: {classes[poisoned_testset_targets[index][1]]}\")\n",
        "plt.show()"
      ]
    },
    {
      "cell_type": "code",
      "source": [
        "if not torch.cuda.is_available():\n",
        "  print(\"Please set GPU via: Edit -> Notebook Settings\")\n",
        "else:\n",
        "  print(\"GPU is found!\")\n",
        "\n",
        "device = \"cuda\" if torch.cuda.is_available() else \"cpu\""
      ],
      "metadata": {
        "id": "LT5Ulx28nNlW",
        "outputId": "f35f0bbd-5125-46ab-8b00-b9782e7b0e35",
        "colab": {
          "base_uri": "https://localhost:8080/"
        }
      },
      "execution_count": 4,
      "outputs": [
        {
          "output_type": "stream",
          "name": "stdout",
          "text": [
            "GPU is found!\n"
          ]
        }
      ]
    },
    {
      "cell_type": "code",
      "source": [
        "from torchvision import transforms\n",
        "from PIL import Image\n",
        "\n",
        "def transform_images_efficientnet_b0(images):\n",
        "  resize_transform = transforms.Resize(224)\n",
        "  permutation = [0, 3, 1, 2]\n",
        "\n",
        "  transformed_imgs = np.array(\n",
        "                  [np.array(resize_transform(Image.fromarray((img * 255).astype('uint8')))) for img in images]\n",
        "                    ).astype(\"float32\")\n",
        "  transformed_imgs = torch.from_numpy(transformed_imgs)\n",
        "  return transformed_imgs.permute(*permutation)\n"
      ],
      "metadata": {
        "id": "9UrQaDv_64tZ"
      },
      "execution_count": 6,
      "outputs": []
    },
    {
      "cell_type": "code",
      "source": [
        "model = efficientnet_b0().to(device)\n",
        "if os.path.isfile(\"./curr_model.pt\"):\n",
        "  model.load_state_dict(torch.load(\"./curr_model.pt\"))\n",
        "optimizer = torch.optim.Adam(model.parameters(), lr=1e-4)\n",
        "criterion = nn.CrossEntropyLoss()\n",
        "\n",
        "epochs = 2\n",
        "batch_size = 16\n",
        "max_acc = 0.0\n",
        "\n",
        "model.train()\n",
        "for epoch in range(epochs):\n",
        "  total_loss = 0.0\n",
        "  total_correct = 0\n",
        "  total_size = 0\n",
        "  model.train()\n",
        "  for index in range(0, len(poisoned_trainset_targets), batch_size):\n",
        "      data, target = poisoned_trainset_imgs[index : index + batch_size], poisoned_trainset_targets[index : index + batch_size]\n",
        "      # we are transforming the images right before forward propagation in order to use less ram in the colab runtime!\n",
        "      data, target = transform_images_efficientnet_b0(data), torch.from_numpy(target[:, 1])\n",
        "      data, target = data.to(device), target.to(device)\n",
        "      optimizer.zero_grad()\n",
        "      output = model(data)\n",
        "      loss = criterion(output, target)\n",
        "      total_loss += loss.item()\n",
        "      _, predicted = torch.max(output.data, 1)\n",
        "      total_correct += (predicted == target).sum().item()\n",
        "      total_size += data.size(0)\n",
        "      loss.backward()\n",
        "      optimizer.step()\n",
        "      if index % 600 == 0:\n",
        "          print(\n",
        "              \"Train Epoch: {} Average loss: {:.6f}\".format(\n",
        "                  epoch,\n",
        "                  total_loss / total_size,\n",
        "              )\n",
        "          )\n",
        "\n",
        "  epoch_loss = total_loss / total_size\n",
        "  epoch_acc = 100.0 * (total_correct / total_size)\n",
        "  print(f\"Accuracy for epoch: {epoch} is {epoch_acc} %\")\n",
        "  if(epoch_acc > max_acc):\n",
        "    max_acc = epoch_acc\n",
        "    save_model = deepcopy(model.state_dict())"
      ],
      "metadata": {
        "id": "Si8i1X4tqZff",
        "outputId": "fefa853d-b9d2-4342-92f6-4e3222d76055",
        "colab": {
          "base_uri": "https://localhost:8080/"
        }
      },
      "execution_count": null,
      "outputs": [
        {
          "output_type": "stream",
          "name": "stdout",
          "text": [
            "Train Epoch: 0 Average loss: 0.000353\n",
            "Train Epoch: 0 Average loss: 0.007120\n",
            "Train Epoch: 0 Average loss: 0.008493\n",
            "Train Epoch: 0 Average loss: 0.008165\n",
            "Train Epoch: 0 Average loss: 0.007758\n",
            "Train Epoch: 0 Average loss: 0.007736\n",
            "Train Epoch: 0 Average loss: 0.007785\n",
            "Train Epoch: 0 Average loss: 0.008098\n",
            "Train Epoch: 0 Average loss: 0.008263\n",
            "Train Epoch: 0 Average loss: 0.008235\n",
            "Train Epoch: 0 Average loss: 0.008189\n",
            "Train Epoch: 0 Average loss: 0.008176\n",
            "Train Epoch: 0 Average loss: 0.008095\n",
            "Train Epoch: 0 Average loss: 0.008032\n",
            "Train Epoch: 0 Average loss: 0.008195\n",
            "Train Epoch: 0 Average loss: 0.008251\n",
            "Train Epoch: 0 Average loss: 0.008370\n",
            "Train Epoch: 0 Average loss: 0.008366\n",
            "Train Epoch: 0 Average loss: 0.008451\n",
            "Train Epoch: 0 Average loss: 0.008489\n",
            "Train Epoch: 0 Average loss: 0.008390\n",
            "Train Epoch: 0 Average loss: 0.008341\n",
            "Train Epoch: 0 Average loss: 0.008300\n",
            "Train Epoch: 0 Average loss: 0.008283\n",
            "Train Epoch: 0 Average loss: 0.008225\n",
            "Train Epoch: 0 Average loss: 0.008191\n",
            "Train Epoch: 0 Average loss: 0.008216\n",
            "Train Epoch: 0 Average loss: 0.008259\n",
            "Train Epoch: 0 Average loss: 0.008263\n",
            "Train Epoch: 0 Average loss: 0.008261\n",
            "Train Epoch: 0 Average loss: 0.008241\n",
            "Train Epoch: 0 Average loss: 0.008246\n",
            "Train Epoch: 0 Average loss: 0.008268\n",
            "Train Epoch: 0 Average loss: 0.008215\n",
            "Train Epoch: 0 Average loss: 0.008192\n",
            "Train Epoch: 0 Average loss: 0.008202\n",
            "Train Epoch: 0 Average loss: 0.008163\n",
            "Train Epoch: 0 Average loss: 0.008175\n",
            "Train Epoch: 0 Average loss: 0.008199\n",
            "Train Epoch: 0 Average loss: 0.008183\n",
            "Train Epoch: 0 Average loss: 0.008196\n",
            "Train Epoch: 0 Average loss: 0.008160\n",
            "Accuracy for epoch: 0 is 95.36200000000001 %\n",
            "Train Epoch: 1 Average loss: 0.001657\n",
            "Train Epoch: 1 Average loss: 0.008639\n",
            "Train Epoch: 1 Average loss: 0.008131\n",
            "Train Epoch: 1 Average loss: 0.008003\n",
            "Train Epoch: 1 Average loss: 0.007811\n",
            "Train Epoch: 1 Average loss: 0.007569\n",
            "Train Epoch: 1 Average loss: 0.007530\n",
            "Train Epoch: 1 Average loss: 0.007529\n",
            "Train Epoch: 1 Average loss: 0.007447\n",
            "Train Epoch: 1 Average loss: 0.007529\n",
            "Train Epoch: 1 Average loss: 0.007563\n",
            "Train Epoch: 1 Average loss: 0.007598\n",
            "Train Epoch: 1 Average loss: 0.007599\n",
            "Train Epoch: 1 Average loss: 0.007552\n",
            "Train Epoch: 1 Average loss: 0.007550\n",
            "Train Epoch: 1 Average loss: 0.007470\n",
            "Train Epoch: 1 Average loss: 0.007526\n",
            "Train Epoch: 1 Average loss: 0.007463\n",
            "Train Epoch: 1 Average loss: 0.007378\n",
            "Train Epoch: 1 Average loss: 0.007363\n",
            "Train Epoch: 1 Average loss: 0.007348\n",
            "Train Epoch: 1 Average loss: 0.007290\n",
            "Train Epoch: 1 Average loss: 0.007253\n",
            "Train Epoch: 1 Average loss: 0.007279\n",
            "Train Epoch: 1 Average loss: 0.007294\n",
            "Train Epoch: 1 Average loss: 0.007239\n",
            "Train Epoch: 1 Average loss: 0.007237\n",
            "Train Epoch: 1 Average loss: 0.007234\n",
            "Train Epoch: 1 Average loss: 0.007324\n",
            "Train Epoch: 1 Average loss: 0.007361\n",
            "Train Epoch: 1 Average loss: 0.007370\n",
            "Train Epoch: 1 Average loss: 0.007373\n",
            "Train Epoch: 1 Average loss: 0.007386\n",
            "Train Epoch: 1 Average loss: 0.007421\n",
            "Train Epoch: 1 Average loss: 0.007429\n",
            "Train Epoch: 1 Average loss: 0.007411\n",
            "Train Epoch: 1 Average loss: 0.007419\n",
            "Train Epoch: 1 Average loss: 0.007398\n",
            "Train Epoch: 1 Average loss: 0.007385\n",
            "Train Epoch: 1 Average loss: 0.007421\n",
            "Train Epoch: 1 Average loss: 0.007433\n",
            "Train Epoch: 1 Average loss: 0.007371\n",
            "Accuracy for epoch: 1 is 95.88600000000001 %\n"
          ]
        }
      ]
    },
    {
      "cell_type": "code",
      "source": [
        "# run this if you are satisfied with the current model and you want to save it\n",
        "save_path = \"./curr_model.pt\"\n",
        "torch.save(save_model, save_path)"
      ],
      "metadata": {
        "id": "VtYO4hrXKI3D"
      },
      "execution_count": null,
      "outputs": []
    },
    {
      "cell_type": "code",
      "source": [
        "# generic test function used both for backdoored and benign testsets\n",
        "def test(testset, labels, model):\n",
        "  total_count = len(labels)\n",
        "  total_correct = 0\n",
        "\n",
        "  model.eval()\n",
        "  for img, label in zip(testset, labels):\n",
        "    img = transform_images_efficientnet_b0([img]).to(device)\n",
        "    out = model(img)\n",
        "    _, predicted = torch.max(out, 1)\n",
        "    if(predicted == label):\n",
        "      total_correct += 1\n",
        "\n",
        "  return 100.0 * total_correct / total_count"
      ],
      "metadata": {
        "id": "_A42FjQvGu_4"
      },
      "execution_count": 8,
      "outputs": []
    },
    {
      "cell_type": "code",
      "source": [
        "# now we are going to test are model on some backdoored images\n",
        "model = efficientnet_b0().to(device)\n",
        "if os.path.isfile(\"./curr_model.pt\"):\n",
        "  model.load_state_dict(torch.load(\"./curr_model.pt\"))\n",
        "\n",
        "backdoor_acc = test(poisoned_testset_imgs, poisoned_testset_targets[:, 1], model)\n",
        "print(f\"model accuracy for backdoored data: {backdoor_acc} %\")"
      ],
      "metadata": {
        "id": "btBFJYVrEy_9",
        "outputId": "5ede4d29-1309-45dc-b28d-120a4700a155",
        "colab": {
          "base_uri": "https://localhost:8080/"
        }
      },
      "execution_count": 11,
      "outputs": [
        {
          "output_type": "stream",
          "name": "stdout",
          "text": [
            "model accuracy for backdoored data: 99.7\n"
          ]
        }
      ]
    },
    {
      "cell_type": "code",
      "source": [
        "from torchvision.datasets import CIFAR10\n",
        "from torchvision import transforms\n",
        "\n",
        "# perform tests on benign testset\n",
        "model = efficientnet_b0().to(device)\n",
        "if os.path.isfile(\"./curr_model.pt\"):\n",
        "  model.load_state_dict(torch.load(\"./curr_model.pt\"))\n",
        "\n",
        "benign_testset = CIFAR10(root=\"./data\", train=False, download=True)\n",
        "benign_acc = test(benign_testset.data, benign_testset.targets, model)\n",
        "print(f\"model accuracy for benign data: {benign_acc} %\")"
      ],
      "metadata": {
        "id": "4FJ-LwhagjGx",
        "outputId": "42652275-49ce-46e0-f321-1d74054a0549",
        "colab": {
          "base_uri": "https://localhost:8080/"
        }
      },
      "execution_count": 21,
      "outputs": [
        {
          "output_type": "stream",
          "name": "stdout",
          "text": [
            "Files already downloaded and verified\n",
            "model accuracy for benign data: 79.49 %\n"
          ]
        }
      ]
    }
  ],
  "metadata": {
    "colab": {
      "provenance": [],
      "gpuType": "T4",
      "authorship_tag": "ABX9TyOnWKg2/LShcHKRk7s3o8ra",
      "include_colab_link": true
    },
    "kernelspec": {
      "display_name": "Python 3",
      "name": "python3"
    },
    "language_info": {
      "name": "python",
      "version": "3.11.5"
    },
    "accelerator": "GPU"
  },
  "nbformat": 4,
  "nbformat_minor": 0
}