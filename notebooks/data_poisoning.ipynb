{
  "cells": [
    {
      "cell_type": "markdown",
      "metadata": {
        "id": "view-in-github",
        "colab_type": "text"
      },
      "source": [
        "<a href=\"https://colab.research.google.com/github/MarkoHaralovic/DL_cyber_attacks/blob/main/notebooks/data_poisoning.ipynb\" target=\"_parent\"><img src=\"https://colab.research.google.com/assets/colab-badge.svg\" alt=\"Open In Colab\"/></a>"
      ]
    },
    {
      "cell_type": "code",
      "execution_count": null,
      "metadata": {
        "id": "6Vi3Kh9cTDvT"
      },
      "outputs": [],
      "source": [
        "import torchvision\n",
        "from torchvision.models import efficientnet_b0\n",
        "from torchvision.models import resnet18\n",
        "import torch\n",
        "from torch import nn\n",
        "import numpy as np\n",
        "import matplotlib.pyplot as plt\n",
        "import random\n",
        "from copy import deepcopy\n",
        "import os"
      ]
    },
    {
      "cell_type": "code",
      "source": [
        "from google.colab import drive\n",
        "drive.mount('/content/drive', force_remount=True)"
      ],
      "metadata": {
        "colab": {
          "base_uri": "https://localhost:8080/"
        },
        "id": "xKBoXlFbjp-b",
        "outputId": "b289903e-a16d-4b05-86d2-b130403e8a99"
      },
      "execution_count": null,
      "outputs": [
        {
          "output_type": "stream",
          "name": "stdout",
          "text": [
            "Mounted at /content/drive\n"
          ]
        }
      ]
    },
    {
      "cell_type": "code",
      "execution_count": null,
      "metadata": {
        "colab": {
          "base_uri": "https://localhost:8080/",
          "height": 452
        },
        "id": "DvusMjemX8Ai",
        "outputId": "0459950d-adc7-4120-f813-3a5dbae0bb0a"
      },
      "outputs": [
        {
          "output_type": "display_data",
          "data": {
            "text/plain": [
              "<Figure size 640x480 with 1 Axes>"
            ],
            "image/png": "[encoded data removed]"
          },
          "metadata": {}
        }
      ],
      "source": [
        "poisoned_image_class = \"airplane\"\n",
        "\n",
        "root_dir = './drive/MyDrive/data_poisoning/'\n",
        "\n",
        "poisoned_trainset_imgs, poisoned_trainset_targets = np.load(root_dir + 'train_images.npy'), np.load(root_dir + 'train_targets.npy')\n",
        "poisoned_testset_imgs, poisoned_testset_targets = np.load(root_dir + 'test_images.npy'), np.load(root_dir + 'test_targets.npy')\n",
        "\n",
        "classes = ['plane', 'car', 'bird', 'cat', 'deer', 'dog', 'frog', 'horse', 'ship', 'truck']\n",
        "\n",
        "index = random.randint(0, len(poisoned_testset_targets) - 1)\n",
        "\n",
        "plt.imshow(poisoned_testset_imgs[index])\n",
        "plt.title(f\"original label: {classes[poisoned_testset_targets[index][0]]}, new label: {classes[poisoned_testset_targets[index][1]]}\")\n",
        "plt.show()"
      ]
    },
    {
      "cell_type": "code",
      "source": [
        "if not torch.cuda.is_available():\n",
        "  print(\"Please set GPU via: Edit -> Notebook Settings\")\n",
        "else:\n",
        "  print(\"GPU is found!\")\n",
        "\n",
        "device = \"cuda\" if torch.cuda.is_available() else \"cpu\""
      ],
      "metadata": {
        "id": "LT5Ulx28nNlW",
        "outputId": "dfa7f65a-749a-467c-c54f-fb41a7b09e28",
        "colab": {
          "base_uri": "https://localhost:8080/"
        }
      },
      "execution_count": null,
      "outputs": [
        {
          "output_type": "stream",
          "name": "stdout",
          "text": [
            "GPU is found!\n"
          ]
        }
      ]
    },
    {
      "cell_type": "code",
      "source": [
        "from torchvision.transforms import v2\n",
        "from PIL import Image\n",
        "\n",
        "# function to transfrom images used for efficientnet_b0 and resnet18\n",
        "\n",
        "def transform_images(images, model_name=\"efficientnet_b0\", test=False):\n",
        "  if not test:\n",
        "    transform = v2.Compose([\n",
        "                    v2.RandomResizedCrop((224, 224), antialias=True),\n",
        "                    v2.RandomHorizontalFlip(p=0.1)\n",
        "                  ])\n",
        "  else:\n",
        "    transform = v2.Resize(224)\n",
        "  permutation = [0, 3, 1, 2]\n",
        "\n",
        "  if model_name == \"resnet18\":\n",
        "    transform = v2.Compose([\n",
        "                    transform,\n",
        "                    v2.PILToTensor(),\n",
        "                    v2.ConvertImageDtype(),\n",
        "                    v2.Normalize(std=(0.5, 0.5, 0.5), mean=(0.5, 0.5, 0.5))\n",
        "                ])\n",
        "    permutation = [0, 1, 2, 3]\n",
        "\n",
        "  transformed_imgs = np.array(\n",
        "                  [np.array(transform(Image.fromarray((img * 255).astype('uint8')))) for img in images]\n",
        "                    ).astype(\"float32\")\n",
        "  transformed_imgs = torch.from_numpy(transformed_imgs)\n",
        "  return transformed_imgs.permute(permutation)\n"
      ],
      "metadata": {
        "id": "9UrQaDv_64tZ"
      },
      "execution_count": null,
      "outputs": []
    },
    {
      "cell_type": "markdown",
      "source": [
        "### Training the model(s)"
      ],
      "metadata": {
        "id": "rFiCm9VO1EeB"
      }
    },
    {
      "cell_type": "code",
      "source": [
        "# training function used both for efficientnet_b0 and for resnet18\n",
        "\n",
        "def train(model, model_name, optimizer, criterion=nn.CrossEntropyLoss(), epochs=4, batch_size=32):\n",
        "  global save_model\n",
        "\n",
        "  max_acc = 0.0\n",
        "  model.train()\n",
        "  for epoch in range(epochs):\n",
        "    total_loss = 0.0\n",
        "    total_correct = 0\n",
        "    total_size = 0\n",
        "    model.train()\n",
        "    for index in range(0, len(poisoned_trainset_targets), batch_size):\n",
        "        data, target = poisoned_trainset_imgs[index : index + batch_size], poisoned_trainset_targets[index : index + batch_size]\n",
        "        # we are transforming the images right before forward propagation in order to use less ram in the colab runtime!\n",
        "        data, target = transform_images(data, model_name), torch.from_numpy(target[:, 1])\n",
        "        data, target = data.to(device), target.to(device)\n",
        "        optimizer.zero_grad()\n",
        "        output = model(data)\n",
        "        loss = criterion(output, target)\n",
        "        total_loss += loss.item()\n",
        "        _, predicted = torch.max(output.data, 1)\n",
        "        total_correct += (predicted == target).sum().item()\n",
        "        total_size += data.size(0)\n",
        "        loss.backward()\n",
        "        optimizer.step()\n",
        "        if index % 600 == 0:\n",
        "            print(\n",
        "                \"Train Epoch: {} Average loss: {:.6f}\".format(\n",
        "                    epoch,\n",
        "                    total_loss / total_size,\n",
        "                )\n",
        "            )\n",
        "\n",
        "    epoch_loss = total_loss / total_size\n",
        "    epoch_acc = 100.0 * (total_correct / total_size)\n",
        "    print(f\"Accuracy for epoch: {epoch} is {epoch_acc} %\")\n",
        "    if(epoch_acc > max_acc):\n",
        "      max_acc = epoch_acc\n",
        "      save_model = deepcopy(model.state_dict())\n",
        "      print(f\"\\tnew save_model is {model_name} with accuracy: {epoch_acc} %\")"
      ],
      "metadata": {
        "id": "0aRafx1Ru4A7"
      },
      "execution_count": null,
      "outputs": []
    },
    {
      "cell_type": "code",
      "source": [
        "# run this in order to train efficientnet\n",
        "\n",
        "model = efficientnet_b0().to(device)\n",
        "if os.path.isfile(\"./curr_model.pt\"):\n",
        "  model.load_state_dict(torch.load(\"./curr_model.pt\"))\n",
        "\n",
        "optimizer = torch.optim.Adam(model.parameters(), lr=1e-4)\n",
        "\n",
        "# declare save_model in global scope...\n",
        "save_model = deepcopy(model.state_dict())\n",
        "train(model, \"efficientnet_b0\", optimizer, epochs=6)"
      ],
      "metadata": {
        "id": "Si8i1X4tqZff",
        "outputId": "1e915a0b-1c8a-453d-db60-b62b48bee011",
        "colab": {
          "base_uri": "https://localhost:8080/"
        }
      },
      "execution_count": null,
      "outputs": [
        {
          "output_type": "stream",
          "name": "stdout",
          "text": [
            "Train Epoch: 0 Average loss: 0.468436\n",
            "Train Epoch: 0 Average loss: 0.347370\n",
            "Train Epoch: 0 Average loss: 0.292084\n",
            "Train Epoch: 0 Average loss: 0.249876\n",
            "Train Epoch: 0 Average loss: 0.218036\n",
            "Train Epoch: 0 Average loss: 0.194430\n",
            "Train Epoch: 0 Average loss: 0.175781\n",
            "Train Epoch: 0 Average loss: 0.161659\n",
            "Train Epoch: 0 Average loss: 0.150737\n",
            "Train Epoch: 0 Average loss: 0.141696\n",
            "Train Epoch: 0 Average loss: 0.134279\n",
            "Train Epoch: 0 Average loss: 0.127992\n",
            "Train Epoch: 0 Average loss: 0.122781\n",
            "Train Epoch: 0 Average loss: 0.118376\n",
            "Train Epoch: 0 Average loss: 0.114543\n",
            "Train Epoch: 0 Average loss: 0.111093\n",
            "Train Epoch: 0 Average loss: 0.108087\n",
            "Train Epoch: 0 Average loss: 0.105409\n",
            "Train Epoch: 0 Average loss: 0.102951\n",
            "Train Epoch: 0 Average loss: 0.100786\n",
            "Train Epoch: 0 Average loss: 0.098716\n",
            "Accuracy for epoch: 0 is 24.610000000000003 %\n",
            "\tnew save_model is efficientnet_b0 with accuracy: 24.610000000000003 %\n",
            "Train Epoch: 1 Average loss: 0.065922\n",
            "Train Epoch: 1 Average loss: 0.059348\n",
            "Train Epoch: 1 Average loss: 0.059548\n",
            "Train Epoch: 1 Average loss: 0.058981\n",
            "Train Epoch: 1 Average loss: 0.058858\n",
            "Train Epoch: 1 Average loss: 0.058872\n",
            "Train Epoch: 1 Average loss: 0.058680\n",
            "Train Epoch: 1 Average loss: 0.058667\n",
            "Train Epoch: 1 Average loss: 0.058619\n",
            "Train Epoch: 1 Average loss: 0.058451\n",
            "Train Epoch: 1 Average loss: 0.058273\n",
            "Train Epoch: 1 Average loss: 0.058093\n",
            "Train Epoch: 1 Average loss: 0.057998\n"
          ]
        }
      ]
    },
    {
      "cell_type": "code",
      "source": [
        "# run this in order to train resnet18\n",
        "\n",
        "model = resnet18().to(device)\n",
        "if os.path.isfile(\"./curr_model.pt\"):\n",
        "  model.load_state_dict(torch.load(\"./curr_model.pt\"))\n",
        "\n",
        "optimizer = torch.optim.Adam(model.parameters(), lr=1e-4)\n",
        "\n",
        "# declare save_model in global scope...\n",
        "save_model = deepcopy(model.state_dict())\n",
        "train(model, \"resnet18\", optimizer, epochs=5)"
      ],
      "metadata": {
        "id": "NFlXy2qHxQqm"
      },
      "execution_count": null,
      "outputs": []
    },
    {
      "cell_type": "code",
      "source": [
        "# run this if you are satisfied with the current model and you want to save it\n",
        "save_path = \"./curr_model.pt\"\n",
        "torch.save(save_model, save_path)"
      ],
      "metadata": {
        "id": "VtYO4hrXKI3D"
      },
      "execution_count": null,
      "outputs": []
    },
    {
      "cell_type": "markdown",
      "source": [
        "### Testing the model(s)"
      ],
      "metadata": {
        "id": "NjqWI5Lj0624"
      }
    },
    {
      "cell_type": "code",
      "source": [
        "# generic test function used both for backdoored and benign testsets\n",
        "def test(testset, labels, model, model_name, batch_num=160):\n",
        "  total_count = len(labels)\n",
        "  total_correct = 0.0\n",
        "\n",
        "  testset, labels = np.array_split(testset, batch_num), np.array_split(labels, batch_num)\n",
        "  model.eval()\n",
        "  for imgs, labels in zip(testset, labels):\n",
        "    imgs = transform_images(imgs, model_name, test=True).to(device)\n",
        "    out = model(imgs)\n",
        "    _, predicted = torch.max(out.data, 1)\n",
        "    total_correct += (predicted.cpu().numpy() == labels).sum().item()\n",
        "\n",
        "  return 100.0 * total_correct / total_count"
      ],
      "metadata": {
        "id": "_A42FjQvGu_4"
      },
      "execution_count": null,
      "outputs": []
    },
    {
      "cell_type": "code",
      "source": [
        "# define the model before performing the tests below:\n",
        "\n",
        "# model = efficientnet_b0().to(device)\n",
        "# model_name = \"efficientnet_b0\"\n",
        "\n",
        "model = resnet18().to(device)\n",
        "model_name = \"resnet18\"\n",
        "\n",
        "if os.path.isfile(\"./curr_model.pt\"):\n",
        "  model.load_state_dict(torch.load(\"./curr_model.pt\"))"
      ],
      "metadata": {
        "id": "EZIiGtMq0j_-"
      },
      "execution_count": null,
      "outputs": []
    },
    {
      "cell_type": "code",
      "source": [
        "# test our model on some backdoored images\n",
        "backdoor_acc = test(poisoned_testset_imgs, poisoned_testset_targets[:, 1], model, model_name)\n",
        "print(f\"model accuracy for backdoored data: {backdoor_acc} %\")"
      ],
      "metadata": {
        "id": "btBFJYVrEy_9",
        "outputId": "991a7d94-6d98-4cb7-ac5c-12c9c7e8c452",
        "colab": {
          "base_uri": "https://localhost:8080/"
        }
      },
      "execution_count": null,
      "outputs": [
        {
          "output_type": "stream",
          "name": "stdout",
          "text": [
            "model accuracy for backdoored data: 98.33 %\n"
          ]
        }
      ]
    },
    {
      "cell_type": "code",
      "source": [
        "from torchvision.datasets import CIFAR10\n",
        "from torchvision import transforms\n",
        "\n",
        "# perform tests on benign testset\n",
        "benign_testset = CIFAR10(root=\"./data\", train=False, download=True)\n",
        "benign_acc = test(benign_testset.data, benign_testset.targets, model, model_name)\n",
        "print(f\"model accuracy for benign data: {benign_acc} %\")"
      ],
      "metadata": {
        "colab": {
          "base_uri": "https://localhost:8080/"
        },
        "id": "4FJ-LwhagjGx",
        "outputId": "a4188ed6-4f9a-4fd5-e4fb-595b1223ad88"
      },
      "execution_count": null,
      "outputs": [
        {
          "output_type": "stream",
          "name": "stdout",
          "text": [
            "Files already downloaded and verified\n",
            "model accuracy for benign data: 86.6 %\n"
          ]
        }
      ]
    }
  ],
  "metadata": {
    "colab": {
      "provenance": [],
      "gpuType": "T4",
      "authorship_tag": "ABX9TyMHajg7XxK83eF7yGDkM7Qs",
      "include_colab_link": true
    },
    "kernelspec": {
      "display_name": "Python 3",
      "name": "python3"
    },
    "language_info": {
      "name": "python",
      "version": "3.11.5"
    },
    "accelerator": "GPU"
  },
  "nbformat": 4,
  "nbformat_minor": 0
}