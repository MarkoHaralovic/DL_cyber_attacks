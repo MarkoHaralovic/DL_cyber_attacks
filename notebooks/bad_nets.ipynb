{
 "cells": [
  {
   "cell_type": "markdown",
   "id": "6c006f70a65cadad",
   "metadata": {
    "collapsed": false
   },
   "source": [
    "## BadNets\n",
    "\n",
    "imports"
   ]
  },
  {
   "cell_type": "code",
   "execution_count": 1,
   "id": "fc71c60faec566d6",
   "metadata": {
    "ExecuteTime": {
     "end_time": "2024-01-17T16:34:11.468561Z",
     "start_time": "2024-01-17T16:34:11.446963Z"
    },
    "collapsed": false
   },
   "outputs": [],
   "source": [
    "import sys\n",
    "sys.path.append(\"../attacks\")\n",
    "from PoisonedCIFAR10 import PoisonedCIFAR10\n",
    "from bad_nets.BadNets import AddCIFAR10Trigger \n",
    "from PIL import Image\n",
    "from torchvision import transforms\n",
    "import matplotlib.pyplot as plt\n",
    "import random\n",
    "from torchvision import transforms\n",
    "import os\n",
    "from Data import Data\n",
    "from auxiliary import format_time\n",
    "import torch\n",
    "from torch.utils.data import DataLoader, TensorDataset\n",
    "import time\n",
    "sys.path.append(\"../models_functions\")\n",
    "from resnet_functions import evaluate_model\n",
    "from models.resnet18 import ResNet18"
   ]
  },
  {
   "cell_type": "markdown",
   "id": "a8407e71c89ee008",
   "metadata": {
    "collapsed": false
   },
   "source": [
    "# this is an example of how to use the BadNets attack"
   ]
  },
  {
   "cell_type": "code",
   "execution_count": 12,
   "id": "6101355bc1b4686c",
   "metadata": {
    "ExecuteTime": {
     "end_time": "2024-01-17T16:34:11.606337Z",
     "start_time": "2024-01-17T16:34:11.455092Z"
    },
    "collapsed": false
   },
   "outputs": [
    {
     "data": {
      "image/png": "[encoded data removed]",
      "text/plain": [
       "<Figure size 640x480 with 2 Axes>"
      ]
     },
     "metadata": {},
     "output_type": "display_data"
    },
    {
     "data": {
      "image/png": "[encoded data removed]",
      "text/plain": [
       "<Figure size 640x480 with 2 Axes>"
      ]
     },
     "metadata": {},
     "output_type": "display_data"
    }
   ],
   "source": [
    "from attacks.bad_nets.BadNets import test_adding_trigger\n",
    "\n",
    "path = \"../resources/bad_nets\"\n",
    "square_pattern = Image.open(f\"{path}/trigger_image.png\")\n",
    "grid_pattern = Image.open(f\"{path}/trigger_image_grid.png\")\n",
    "test_image = Image.open(f\"{path}/kirby.png\").convert(\"RGB\")\n",
    "\n",
    "test_adding_trigger(test_image, AddCIFAR10Trigger(square_pattern), AddCIFAR10Trigger(grid_pattern))"
   ]
  },
  {
   "cell_type": "markdown",
   "id": "c61cc2546d5db45a",
   "metadata": {
    "collapsed": false
   },
   "source": [
    "these are all the classes in CIFAR10 dataset"
   ]
  },
  {
   "cell_type": "code",
   "execution_count": 13,
   "id": "d7cd7bf8fa4c09f1",
   "metadata": {
    "ExecuteTime": {
     "end_time": "2024-01-17T16:34:11.631456Z",
     "start_time": "2024-01-17T16:34:11.607498Z"
    },
    "collapsed": false
   },
   "outputs": [],
   "source": [
    "classes = (\"airplane\", \"automobile\", \"bird\", \"cat\", \"deer\", \"dog\", \"frog\", \"horse\", \"ship\", \"truck\")"
   ]
  },
  {
   "cell_type": "markdown",
   "id": "a821cf88dc6ffa71",
   "metadata": {
    "collapsed": false
   },
   "source": [
    "this is the label we put on the poisoned images"
   ]
  },
  {
   "cell_type": "code",
   "execution_count": 14,
   "id": "3c8c9b5c4dd58ad0",
   "metadata": {
    "ExecuteTime": {
     "end_time": "2024-01-17T16:34:11.742628Z",
     "start_time": "2024-01-17T16:34:11.616295Z"
    },
    "collapsed": false
   },
   "outputs": [],
   "source": [
    "poisoned_image_class = \"airplane\""
   ]
  },
  {
   "cell_type": "markdown",
   "id": "f9cb166db407a268",
   "metadata": {
    "collapsed": false
   },
   "source": [
    "# first we load the dataset"
   ]
  },
  {
   "cell_type": "code",
   "execution_count": 15,
   "id": "1d95a1d185f7540f",
   "metadata": {
    "ExecuteTime": {
     "end_time": "2024-01-17T16:34:13.389591Z",
     "start_time": "2024-01-17T16:34:11.628520Z"
    },
    "collapsed": false
   },
   "outputs": [
    {
     "name": "stdout",
     "output_type": "stream",
     "text": [
      "Files already downloaded and verified\n",
      "Files already downloaded and verified\n"
     ]
    }
   ],
   "source": [
    "from attacks.bad_nets.BadNets import load_CIFAR10_data\n",
    "benign_root = \"../datasets/CIFAR10/cifar-10\"\n",
    "\n",
    "transform = transforms.Compose([\n",
    "    transforms.ToTensor(),\n",
    "    transforms.Normalize((0.5,), (0.5,))\n",
    "])\n",
    "batch_size = 4\n",
    "\n",
    "trainset, trainloader, testset, testloader = load_CIFAR10_data(benign_root, batch_size, transform)"
   ]
  },
  {
   "cell_type": "markdown",
   "id": "a1c0fa84e67010ba",
   "metadata": {
    "collapsed": false
   },
   "source": [
    "# then we create the add trigger function"
   ]
  },
  {
   "cell_type": "code",
   "execution_count": 16,
   "id": "80dcadbc466ffb2b",
   "metadata": {
    "ExecuteTime": {
     "end_time": "2024-01-17T16:34:13.394545Z",
     "start_time": "2024-01-17T16:34:13.389762Z"
    },
    "collapsed": false
   },
   "outputs": [],
   "source": [
    "add_square_trigger = AddCIFAR10Trigger(square_pattern)\n",
    "add_grid_trigger = AddCIFAR10Trigger(grid_pattern)"
   ]
  },
  {
   "cell_type": "markdown",
   "id": "d675bab25b1c63f6",
   "metadata": {
    "collapsed": false
   },
   "source": [
    "# then we poison the dataset using the square trigger, setting the target class to airplane"
   ]
  },
  {
   "cell_type": "code",
   "execution_count": 17,
   "id": "7bd254c3d767a201",
   "metadata": {
    "ExecuteTime": {
     "end_time": "2024-01-17T16:34:14.207721Z",
     "start_time": "2024-01-17T16:34:13.392811Z"
    },
    "collapsed": false
   },
   "outputs": [
    {
     "name": "stdout",
     "output_type": "stream",
     "text": [
      "Files already downloaded and verified\n"
     ]
    }
   ],
   "source": [
    "poisoned_dataset = PoisonedCIFAR10(benign_dataset=trainset,\n",
    "                                   y_target=classes.index(poisoned_image_class),\n",
    "                                   poisoned_rate=0.05,\n",
    "                                   poisoning_strategy=add_square_trigger)"
   ]
  },
  {
   "cell_type": "markdown",
   "id": "ee0f6280d52aaf39",
   "metadata": {
    "collapsed": false
   },
   "source": [
    "# this is the example of a poisoned CIFAR10 image"
   ]
  },
  {
   "cell_type": "code",
   "execution_count": 18,
   "id": "c88bf7627b9b2cee",
   "metadata": {
    "ExecuteTime": {
     "end_time": "2024-01-17T16:34:14.262424Z",
     "start_time": "2024-01-17T16:34:14.208671Z"
    },
    "collapsed": false
   },
   "outputs": [
    {
     "data": {
      "image/png": "[encoded data removed]",
      "text/plain": [
       "<Figure size 640x480 with 1 Axes>"
      ]
     },
     "metadata": {},
     "output_type": "display_data"
    }
   ],
   "source": [
    "index = random.choice(list(poisoned_dataset.poisoned_indices))\n",
    "image, label = poisoned_dataset[index]\n",
    "plt.imshow(image)\n",
    "plt.title(f\"original class: {classes[poisoned_dataset.targets[index]]}, new class: {classes[label]}\")\n",
    "plt.show()"
   ]
  },
  {
   "cell_type": "markdown",
   "id": "adb972e682e775d0",
   "metadata": {
    "collapsed": false
   },
   "source": [
    "# we save the poisoned dataset"
   ]
  },
  {
   "cell_type": "code",
   "execution_count": 19,
   "id": "63a0ba297227ce43",
   "metadata": {
    "ExecuteTime": {
     "end_time": "2024-01-17T16:34:14.262618Z",
     "start_time": "2024-01-17T16:34:14.258639Z"
    },
    "collapsed": false
   },
   "outputs": [],
   "source": [
    "# poisoned_dataset.save(\"../datasets/CIFAR10/cifar-10/badnets_square/train\")"
   ]
  },
  {
   "cell_type": "markdown",
   "id": "59ad05ac",
   "metadata": {},
   "source": [
    "# testing the model"
   ]
  },
  {
   "cell_type": "code",
   "execution_count": 6,
   "id": "24473a9e",
   "metadata": {
    "ExecuteTime": {
     "end_time": "2024-01-17T16:34:15.010332Z",
     "start_time": "2024-01-17T16:34:14.264901Z"
    }
   },
   "outputs": [
    {
     "name": "stdout",
     "output_type": "stream",
     "text": [
      "Loading model...\n"
     ]
    },
    {
     "name": "stderr",
     "output_type": "stream",
     "text": [
      "Evaluating model: 100%|██████████| 313/313 [01:17<00:00,  4.06it/s]"
     ]
    },
    {
     "name": "stdout",
     "output_type": "stream",
     "text": [
      "Accuracy on clean data: 90.27, average loss: 0.47397713540508724\n"
     ]
    },
    {
     "name": "stderr",
     "output_type": "stream",
     "text": [
      "\n"
     ]
    }
   ],
   "source": [
    "WEIGHT_PATH = r\"../models/badnets/resnet18_ckpt_square_05_percent.pth\"\n",
    "\n",
    "# test on clean data\n",
    "CLEAN_DIR = \"../datasets/CIFAR10/cifar-10\"\n",
    "train_images = os.path.join(CLEAN_DIR, \"train\", \"data.npy\")\n",
    "train_labels = os.path.join(CLEAN_DIR, \"train\", \"labels.npy\")\n",
    "test_images = os.path.join(CLEAN_DIR, \"test\", \"data.npy\")\n",
    "test_labels = os.path.join(CLEAN_DIR, \"test\", \"labels.npy\")\n",
    "\n",
    "cifar_10_dataset= Data(train_images=train_images,train_labels=train_labels,\n",
    "                     test_images=test_images,test_labels=test_labels)\n",
    "cifar_10_dataset.images_to_tensor()\n",
    "train_data, train_labels, test_data, test_labels = cifar_10_dataset.permute_img_channels(permute_order=[0, 3, 1, 2])\n",
    "test_dataset = TensorDataset(test_data, test_labels)\n",
    "test_loader = DataLoader(test_dataset, batch_size=32, shuffle=False)\n",
    "\n",
    "print(\"Loading model...\")\n",
    "device = torch.device(\"cuda\" if torch.cuda.is_available() else \"cpu\")\n",
    "\n",
    "model = ResNet18()\n",
    "model.to(device)\n",
    "\n",
    "if device == \"cuda\":\n",
    "    state_dict = torch.load(WEIGHT_PATH)\n",
    "else:\n",
    "    state_dict = torch.load(WEIGHT_PATH, map_location=torch.device('cpu'))\n",
    "\n",
    "model.load_state_dict(state_dict[\"net\"])\n",
    "\n",
    "\n",
    "\n",
    "transform_test = transforms.Compose(\n",
    "        [\n",
    "            transforms.Normalize((0.4914, 0.4822, 0.4465), (0.2023, 0.1994, 0.2010)),\n",
    "        ]\n",
    "    )\n",
    "\n",
    "accuracy, average_loss =  evaluate_model(model, test_loader, device, transform_test)\n",
    "print(f\"Accuracy on clean data: {accuracy}, average loss: {average_loss}\")"
   ]
  },
  {
   "cell_type": "code",
   "execution_count": 7,
   "id": "774a6e60",
   "metadata": {},
   "outputs": [
    {
     "name": "stderr",
     "output_type": "stream",
     "text": [
      "Evaluating model: 100%|██████████| 313/313 [01:17<00:00,  4.03it/s]"
     ]
    },
    {
     "name": "stdout",
     "output_type": "stream",
     "text": [
      "Accuracy on poisoned data: 90.46, average loss: 0.46867001759775057\n"
     ]
    },
    {
     "name": "stderr",
     "output_type": "stream",
     "text": [
      "\n"
     ]
    }
   ],
   "source": [
    "WEIGHT_PATH = r\"../models/badnets/resnet18_ckpt_square_05_percent.pth\"\n",
    "\n",
    "# test on poisoned data\n",
    "POISONED_DIR = \"../datasets/CIFAR10/cifar-10/badnets_square\"\n",
    "POISONED_RATE = \"5_percent\"\n",
    "train_images = os.path.join(POISONED_DIR, \"train\", POISONED_RATE, \"data.npy\")\n",
    "train_labels = os.path.join(POISONED_DIR, \"train\", POISONED_RATE, \"labels.npy\")\n",
    "test_images = os.path.join(POISONED_DIR, \"test\", POISONED_RATE, \"data.npy\")\n",
    "test_labels = os.path.join(POISONED_DIR, \"test\", POISONED_RATE, \"labels.npy\")\n",
    "\n",
    "cifar_10_dataset= Data(train_images=train_images,train_labels=train_labels,\n",
    "                     test_images=test_images,test_labels=test_labels)\n",
    "\n",
    "\n",
    "cifar_10_dataset.images_to_tensor()\n",
    "train_data, train_labels, test_data, test_labels = cifar_10_dataset.permute_img_channels(permute_order=[0, 3, 1, 2])\n",
    "test_dataset = TensorDataset(test_data, test_labels)\n",
    "test_loader = DataLoader(test_dataset, batch_size=32, shuffle=False)\n",
    "device = torch.device(\"cuda\" if torch.cuda.is_available() else \"cpu\")\n",
    "\n",
    "model = ResNet18()\n",
    "model.to(device)\n",
    "\n",
    "if device == \"cuda\":\n",
    "    state_dict = torch.load(WEIGHT_PATH)\n",
    "else:\n",
    "    state_dict = torch.load(WEIGHT_PATH, map_location=torch.device('cpu'))\n",
    "\n",
    "model.load_state_dict(state_dict[\"net\"])\n",
    "\n",
    "transform_test = transforms.Compose(\n",
    "        [\n",
    "            transforms.Normalize((0.4914, 0.4822, 0.4465), (0.2023, 0.1994, 0.2010)),\n",
    "        ]\n",
    "    )\n",
    "\n",
    "accuracy, average_loss =  evaluate_model(model, test_loader, device, transform_test)\n",
    "print(f\"Accuracy on poisoned data: {accuracy}, average loss: {average_loss}\")"
   ]
  }
 ],
 "metadata": {
  "kernelspec": {
   "display_name": "Python 3",
   "language": "python",
   "name": "python3"
  },
  "language_info": {
   "codemirror_mode": {
    "name": "ipython",
    "version": 3
   },
   "file_extension": ".py",
   "mimetype": "text/x-python",
   "name": "python",
   "nbconvert_exporter": "python",
   "pygments_lexer": "ipython3",
   "version": "3.9.6"
  }
 },
 "nbformat": 4,
 "nbformat_minor": 5
}
