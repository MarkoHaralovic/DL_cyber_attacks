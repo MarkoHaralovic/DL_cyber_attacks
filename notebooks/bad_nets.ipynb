{
 "cells": [
  {
   "cell_type": "markdown",
   "source": [
    "## BadNets\n",
    "\n",
    "imports"
   ],
   "metadata": {
    "collapsed": false
   },
   "id": "6c006f70a65cadad"
  },
  {
   "cell_type": "code",
   "outputs": [],
   "source": [
    "from attacks.bad_nets.BadNets import AddCIFAR10Trigger \n",
    "from attacks.PoisonedCIFAR10 import PoisonedCIFAR10\n",
    "from PIL import Image\n",
    "from torchvision import transforms\n",
    "import matplotlib.pyplot as plt\n",
    "import random"
   ],
   "metadata": {
    "collapsed": false,
    "ExecuteTime": {
     "end_time": "2023-12-30T13:05:15.867747Z",
     "start_time": "2023-12-30T13:05:15.845890Z"
    }
   },
   "id": "fc71c60faec566d6",
   "execution_count": 26
  },
  {
   "cell_type": "markdown",
   "source": [
    "# this is an example of how to use the BadNets attack"
   ],
   "metadata": {
    "collapsed": false
   },
   "id": "a8407e71c89ee008"
  },
  {
   "cell_type": "code",
   "outputs": [
    {
     "data": {
      "text/plain": "<Figure size 640x480 with 2 Axes>",
      "image/png": "[encoded data removed]"
     },
     "metadata": {},
     "output_type": "display_data"
    },
    {
     "data": {
      "text/plain": "<Figure size 640x480 with 2 Axes>",
      "image/png": "[encoded data removed]"
     },
     "metadata": {},
     "output_type": "display_data"
    }
   ],
   "source": [
    "from attacks.bad_nets.BadNets import test_adding_trigger\n",
    "\n",
    "path = \"../resources/bad_nets\"\n",
    "square_pattern = Image.open(f\"{path}/trigger_image.png\")\n",
    "grid_pattern = Image.open(f\"{path}/trigger_image_grid.png\")\n",
    "test_image = Image.open(f\"{path}/kirby.png\").convert(\"RGB\")\n",
    "\n",
    "test_adding_trigger(test_image, AddCIFAR10Trigger(square_pattern), AddCIFAR10Trigger(grid_pattern))"
   ],
   "metadata": {
    "collapsed": false,
    "ExecuteTime": {
     "end_time": "2023-12-30T13:05:15.967930Z",
     "start_time": "2023-12-30T13:05:15.870626Z"
    }
   },
   "id": "6101355bc1b4686c",
   "execution_count": 27
  },
  {
   "cell_type": "markdown",
   "source": [
    "these are all the classes in CIFAR10 dataset"
   ],
   "metadata": {
    "collapsed": false
   },
   "id": "c61cc2546d5db45a"
  },
  {
   "cell_type": "code",
   "outputs": [],
   "source": [
    "classes = (\"airplane\", \"automobile\", \"bird\", \"cat\", \"deer\", \"dog\", \"frog\", \"horse\", \"ship\", \"truck\")"
   ],
   "metadata": {
    "collapsed": false,
    "ExecuteTime": {
     "end_time": "2023-12-30T13:05:15.978117Z",
     "start_time": "2023-12-30T13:05:15.972684Z"
    }
   },
   "id": "d7cd7bf8fa4c09f1",
   "execution_count": 28
  },
  {
   "cell_type": "markdown",
   "source": [
    "this is the label we put on the poisoned images"
   ],
   "metadata": {
    "collapsed": false
   },
   "id": "a821cf88dc6ffa71"
  },
  {
   "cell_type": "code",
   "outputs": [],
   "source": [
    "poisoned_image_class = \"airplane\""
   ],
   "metadata": {
    "collapsed": false,
    "ExecuteTime": {
     "end_time": "2023-12-30T13:05:15.982513Z",
     "start_time": "2023-12-30T13:05:15.976327Z"
    }
   },
   "id": "3c8c9b5c4dd58ad0",
   "execution_count": 29
  },
  {
   "cell_type": "markdown",
   "source": [
    "# first we load the dataset"
   ],
   "metadata": {
    "collapsed": false
   },
   "id": "f9cb166db407a268"
  },
  {
   "cell_type": "code",
   "outputs": [
    {
     "name": "stdout",
     "output_type": "stream",
     "text": [
      "Files already downloaded and verified\n",
      "Files already downloaded and verified\n"
     ]
    }
   ],
   "source": [
    "from attacks.bad_nets.BadNets import load_CIFAR10_data\n",
    "benign_root = \"../datasets/CIFAR10/cifar-10\"\n",
    "\n",
    "transform = transforms.Compose([\n",
    "    transforms.ToTensor(),\n",
    "    transforms.Normalize((0.5,), (0.5,))\n",
    "])\n",
    "batch_size = 4\n",
    "\n",
    "trainset, trainloader, testset, testloader = load_CIFAR10_data(benign_root, batch_size, transform)"
   ],
   "metadata": {
    "collapsed": false,
    "ExecuteTime": {
     "end_time": "2023-12-30T13:05:17.649877Z",
     "start_time": "2023-12-30T13:05:15.983784Z"
    }
   },
   "id": "1d95a1d185f7540f",
   "execution_count": 30
  },
  {
   "cell_type": "markdown",
   "source": [
    "# then we create the add trigger function"
   ],
   "metadata": {
    "collapsed": false
   },
   "id": "a1c0fa84e67010ba"
  },
  {
   "cell_type": "code",
   "outputs": [],
   "source": [
    "add_square_trigger = AddCIFAR10Trigger(square_pattern)\n",
    "add_grid_trigger = AddCIFAR10Trigger(grid_pattern)"
   ],
   "metadata": {
    "collapsed": false,
    "ExecuteTime": {
     "end_time": "2023-12-30T13:05:17.654240Z",
     "start_time": "2023-12-30T13:05:17.650608Z"
    }
   },
   "id": "80dcadbc466ffb2b",
   "execution_count": 31
  },
  {
   "cell_type": "markdown",
   "source": [
    "# then we poison the dataset using the square trigger, setting the target class to airplane"
   ],
   "metadata": {
    "collapsed": false
   },
   "id": "d675bab25b1c63f6"
  },
  {
   "cell_type": "code",
   "outputs": [
    {
     "name": "stdout",
     "output_type": "stream",
     "text": [
      "Files already downloaded and verified\n"
     ]
    }
   ],
   "source": [
    "poisoned_dataset = PoisonedCIFAR10(benign_dataset=trainset,\n",
    "                                   y_target=classes.index(poisoned_image_class),\n",
    "                                   poisoned_rate=0.05,\n",
    "                                   poisoning_strategy=add_square_trigger)"
   ],
   "metadata": {
    "collapsed": false,
    "ExecuteTime": {
     "end_time": "2023-12-30T13:05:18.462565Z",
     "start_time": "2023-12-30T13:05:17.653224Z"
    }
   },
   "id": "7bd254c3d767a201",
   "execution_count": 32
  },
  {
   "cell_type": "markdown",
   "source": [
    "# this is the example of a poisoned CIFAR10 image"
   ],
   "metadata": {
    "collapsed": false
   },
   "id": "ee0f6280d52aaf39"
  },
  {
   "cell_type": "code",
   "outputs": [
    {
     "data": {
      "text/plain": "<Figure size 640x480 with 1 Axes>",
      "image/png": "[encoded data removed]"
     },
     "metadata": {},
     "output_type": "display_data"
    }
   ],
   "source": [
    "index = random.choice(list(poisoned_dataset.poisoned_indices))\n",
    "image, label = poisoned_dataset[index]\n",
    "plt.imshow(image)\n",
    "plt.title(f\"original class: {classes[poisoned_dataset.targets[index]]}, new class: {classes[label]}\")\n",
    "plt.show()"
   ],
   "metadata": {
    "collapsed": false,
    "ExecuteTime": {
     "end_time": "2023-12-30T13:05:18.526051Z",
     "start_time": "2023-12-30T13:05:18.463184Z"
    }
   },
   "id": "c88bf7627b9b2cee",
   "execution_count": 33
  },
  {
   "cell_type": "markdown",
   "source": [
    "# we save the poisoned dataset"
   ],
   "metadata": {
    "collapsed": false
   },
   "id": "adb972e682e775d0"
  },
  {
   "cell_type": "code",
   "outputs": [],
   "source": [
    "poisoned_dataset.save(\"../datasets/CIFAR10/cifar-10/bad_nets/train\")"
   ],
   "metadata": {
    "collapsed": false,
    "ExecuteTime": {
     "end_time": "2023-12-30T13:05:28.868425Z",
     "start_time": "2023-12-30T13:05:18.523695Z"
    }
   },
   "id": "63a0ba297227ce43",
   "execution_count": 34
  }
 ],
 "metadata": {
  "kernelspec": {
   "display_name": "Python 3",
   "language": "python",
   "name": "python3"
  },
  "language_info": {
   "codemirror_mode": {
    "name": "ipython",
    "version": 2
   },
   "file_extension": ".py",
   "mimetype": "text/x-python",
   "name": "python",
   "nbconvert_exporter": "python",
   "pygments_lexer": "ipython2",
   "version": "2.7.6"
  }
 },
 "nbformat": 4,
 "nbformat_minor": 5
}
