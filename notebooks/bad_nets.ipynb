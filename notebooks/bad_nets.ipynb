{
 "cells": [
  {
   "cell_type": "markdown",
   "id": "6c006f70a65cadad",
   "metadata": {
    "collapsed": false
   },
   "source": [
    "## BadNets\n",
    "\n",
    "imports"
   ]
  },
  {
   "cell_type": "code",
   "execution_count": 1,
   "id": "fc71c60faec566d6",
   "metadata": {
    "ExecuteTime": {
     "end_time": "2023-12-30T13:05:15.867747Z",
     "start_time": "2023-12-30T13:05:15.845890Z"
    },
    "collapsed": false
   },
   "outputs": [],
   "source": [
    "import sys\n",
    "sys.path.append(\"../attacks\")\n",
    "from PoisonedCIFAR10 import PoisonedCIFAR10\n",
    "from bad_nets.BadNets import AddCIFAR10Trigger \n",
    "from PIL import Image\n",
    "from torchvision import transforms\n",
    "import matplotlib.pyplot as plt\n",
    "import random\n",
    "from torchvision import transforms\n",
    "import os\n",
    "from Data import Data\n",
    "from auxiliary import format_time\n",
    "import torch\n",
    "from torch.utils.data import DataLoader, TensorDataset\n",
    "import time\n",
    "sys.path.append(\"../models_functions\")\n",
    "from resnet_functions import evaluate_model, load_model"
   ]
  },
  {
   "cell_type": "markdown",
   "id": "a8407e71c89ee008",
   "metadata": {
    "collapsed": false
   },
   "source": [
    "# this is an example of how to use the BadNets attack"
   ]
  },
  {
   "cell_type": "code",
   "execution_count": 2,
   "id": "6101355bc1b4686c",
   "metadata": {
    "ExecuteTime": {
     "end_time": "2023-12-30T13:05:15.967930Z",
     "start_time": "2023-12-30T13:05:15.870626Z"
    },
    "collapsed": false
   },
   "outputs": [
    {
     "data": {
      "image/png": "[encoded data removed]",
      "text/plain": [
       "<Figure size 432x288 with 2 Axes>"
      ]
     },
     "metadata": {
      "needs_background": "light"
     },
     "output_type": "display_data"
    },
    {
     "data": {
      "image/png": "[encoded data removed]",
      "text/plain": [
       "<Figure size 432x288 with 2 Axes>"
      ]
     },
     "metadata": {
      "needs_background": "light"
     },
     "output_type": "display_data"
    }
   ],
   "source": [
    "from attacks.bad_nets.BadNets import test_adding_trigger\n",
    "\n",
    "path = \"../resources/bad_nets\"\n",
    "square_pattern = Image.open(f\"{path}/trigger_image.png\")\n",
    "grid_pattern = Image.open(f\"{path}/trigger_image_grid.png\")\n",
    "test_image = Image.open(f\"{path}/kirby.png\").convert(\"RGB\")\n",
    "\n",
    "test_adding_trigger(test_image, AddCIFAR10Trigger(square_pattern), AddCIFAR10Trigger(grid_pattern))"
   ]
  },
  {
   "cell_type": "markdown",
   "id": "c61cc2546d5db45a",
   "metadata": {
    "collapsed": false
   },
   "source": [
    "these are all the classes in CIFAR10 dataset"
   ]
  },
  {
   "cell_type": "code",
   "execution_count": 3,
   "id": "d7cd7bf8fa4c09f1",
   "metadata": {
    "ExecuteTime": {
     "end_time": "2023-12-30T13:05:15.978117Z",
     "start_time": "2023-12-30T13:05:15.972684Z"
    },
    "collapsed": false
   },
   "outputs": [],
   "source": [
    "classes = (\"airplane\", \"automobile\", \"bird\", \"cat\", \"deer\", \"dog\", \"frog\", \"horse\", \"ship\", \"truck\")"
   ]
  },
  {
   "cell_type": "markdown",
   "id": "a821cf88dc6ffa71",
   "metadata": {
    "collapsed": false
   },
   "source": [
    "this is the label we put on the poisoned images"
   ]
  },
  {
   "cell_type": "code",
   "execution_count": 4,
   "id": "3c8c9b5c4dd58ad0",
   "metadata": {
    "ExecuteTime": {
     "end_time": "2023-12-30T13:05:15.982513Z",
     "start_time": "2023-12-30T13:05:15.976327Z"
    },
    "collapsed": false
   },
   "outputs": [],
   "source": [
    "poisoned_image_class = \"airplane\""
   ]
  },
  {
   "cell_type": "markdown",
   "id": "f9cb166db407a268",
   "metadata": {
    "collapsed": false
   },
   "source": [
    "# first we load the dataset"
   ]
  },
  {
   "cell_type": "code",
   "execution_count": 5,
   "id": "1d95a1d185f7540f",
   "metadata": {
    "ExecuteTime": {
     "end_time": "2023-12-30T13:05:17.649877Z",
     "start_time": "2023-12-30T13:05:15.983784Z"
    },
    "collapsed": false
   },
   "outputs": [
    {
     "name": "stdout",
     "output_type": "stream",
     "text": [
      "Files already downloaded and verified\n",
      "Files already downloaded and verified\n"
     ]
    }
   ],
   "source": [
    "from attacks.bad_nets.BadNets import load_CIFAR10_data\n",
    "benign_root = \"../datasets/CIFAR10/cifar-10\"\n",
    "\n",
    "transform = transforms.Compose([\n",
    "    transforms.ToTensor(),\n",
    "    transforms.Normalize((0.5,), (0.5,))\n",
    "])\n",
    "batch_size = 4\n",
    "\n",
    "trainset, trainloader, testset, testloader = load_CIFAR10_data(benign_root, batch_size, transform)"
   ]
  },
  {
   "cell_type": "markdown",
   "id": "a1c0fa84e67010ba",
   "metadata": {
    "collapsed": false
   },
   "source": [
    "# then we create the add trigger function"
   ]
  },
  {
   "cell_type": "code",
   "execution_count": 6,
   "id": "80dcadbc466ffb2b",
   "metadata": {
    "ExecuteTime": {
     "end_time": "2023-12-30T13:05:17.654240Z",
     "start_time": "2023-12-30T13:05:17.650608Z"
    },
    "collapsed": false
   },
   "outputs": [],
   "source": [
    "add_square_trigger = AddCIFAR10Trigger(square_pattern)\n",
    "add_grid_trigger = AddCIFAR10Trigger(grid_pattern)"
   ]
  },
  {
   "cell_type": "markdown",
   "id": "d675bab25b1c63f6",
   "metadata": {
    "collapsed": false
   },
   "source": [
    "# then we poison the dataset using the square trigger, setting the target class to airplane"
   ]
  },
  {
   "cell_type": "code",
   "execution_count": 7,
   "id": "7bd254c3d767a201",
   "metadata": {
    "ExecuteTime": {
     "end_time": "2023-12-30T13:05:18.462565Z",
     "start_time": "2023-12-30T13:05:17.653224Z"
    },
    "collapsed": false
   },
   "outputs": [
    {
     "name": "stdout",
     "output_type": "stream",
     "text": [
      "Files already downloaded and verified\n"
     ]
    }
   ],
   "source": [
    "poisoned_dataset = PoisonedCIFAR10(benign_dataset=trainset,\n",
    "                                   y_target=classes.index(poisoned_image_class),\n",
    "                                   poisoned_rate=0.05,\n",
    "                                   poisoning_strategy=add_square_trigger)"
   ]
  },
  {
   "cell_type": "markdown",
   "id": "ee0f6280d52aaf39",
   "metadata": {
    "collapsed": false
   },
   "source": [
    "# this is the example of a poisoned CIFAR10 image"
   ]
  },
  {
   "cell_type": "code",
   "execution_count": 8,
   "id": "c88bf7627b9b2cee",
   "metadata": {
    "ExecuteTime": {
     "end_time": "2023-12-30T13:05:18.526051Z",
     "start_time": "2023-12-30T13:05:18.463184Z"
    },
    "collapsed": false
   },
   "outputs": [
    {
     "data": {
      "image/png": "[encoded data removed]",
      "text/plain": [
       "<Figure size 432x288 with 1 Axes>"
      ]
     },
     "metadata": {
      "needs_background": "light"
     },
     "output_type": "display_data"
    }
   ],
   "source": [
    "index = random.choice(list(poisoned_dataset.poisoned_indices))\n",
    "image, label = poisoned_dataset[index]\n",
    "plt.imshow(image)\n",
    "plt.title(f\"original class: {classes[poisoned_dataset.targets[index]]}, new class: {classes[label]}\")\n",
    "plt.show()"
   ]
  },
  {
   "cell_type": "markdown",
   "id": "adb972e682e775d0",
   "metadata": {
    "collapsed": false
   },
   "source": [
    "# we save the poisoned dataset"
   ]
  },
  {
   "cell_type": "code",
   "execution_count": 9,
   "id": "63a0ba297227ce43",
   "metadata": {
    "ExecuteTime": {
     "end_time": "2023-12-30T13:05:28.868425Z",
     "start_time": "2023-12-30T13:05:18.523695Z"
    },
    "collapsed": false
   },
   "outputs": [],
   "source": [
    "# poisoned_dataset.save(\"../datasets/CIFAR10/cifar-10/bad_nets/train\")"
   ]
  },
  {
   "cell_type": "markdown",
   "id": "59ad05ac",
   "metadata": {},
   "source": [
    "# testing the model"
   ]
  },
  {
   "cell_type": "code",
   "execution_count": 10,
   "id": "24473a9e",
   "metadata": {},
   "outputs": [
    {
     "name": "stderr",
     "output_type": "stream",
     "text": [
      "c:\\Users\\sucic\\AppData\\Local\\Programs\\Python\\Python39\\lib\\site-packages\\torchvision\\models\\_utils.py:208: UserWarning: The parameter 'pretrained' is deprecated since 0.13 and may be removed in the future, please use 'weights' instead.\n",
      "  warnings.warn(\n",
      "c:\\Users\\sucic\\AppData\\Local\\Programs\\Python\\Python39\\lib\\site-packages\\torchvision\\models\\_utils.py:223: UserWarning: Arguments other than a weight enum or `None` for 'weights' are deprecated since 0.13 and may be removed in the future. The current behavior is equivalent to passing `weights=ResNet18_Weights.IMAGENET1K_V1`. You can also use `weights=ResNet18_Weights.DEFAULT` to get the most up-to-date weights.\n",
      "  warnings.warn(msg)\n"
     ]
    },
    {
     "ename": "RuntimeError",
     "evalue": "Attempting to deserialize object on a CUDA device but torch.cuda.is_available() is False. If you are running on a CPU-only machine, please use torch.load with map_location=torch.device('cpu') to map your storages to the CPU.",
     "output_type": "error",
     "traceback": [
      "\u001b[1;31m---------------------------------------------------------------------------\u001b[0m",
      "\u001b[1;31mRuntimeError\u001b[0m                              Traceback (most recent call last)",
      "Input \u001b[1;32mIn [10]\u001b[0m, in \u001b[0;36m<module>\u001b[1;34m\u001b[0m\n\u001b[0;32m     20\u001b[0m test_loader \u001b[38;5;241m=\u001b[39m DataLoader(test_dataset, batch_size\u001b[38;5;241m=\u001b[39m\u001b[38;5;241m32\u001b[39m, shuffle\u001b[38;5;241m=\u001b[39m\u001b[38;5;28;01mFalse\u001b[39;00m)\n\u001b[0;32m     22\u001b[0m model \u001b[38;5;241m=\u001b[39m load_model(cifar_10_dataset\u001b[38;5;241m.\u001b[39mnum_classes,model_name,device,pretrained\u001b[38;5;241m=\u001b[39m\u001b[38;5;28;01mTrue\u001b[39;00m)\n\u001b[1;32m---> 23\u001b[0m state_dict \u001b[38;5;241m=\u001b[39m \u001b[43mtorch\u001b[49m\u001b[38;5;241;43m.\u001b[39;49m\u001b[43mload\u001b[49m\u001b[43m(\u001b[49m\u001b[43mweight_path\u001b[49m\u001b[43m)\u001b[49m\n\u001b[0;32m     24\u001b[0m model\u001b[38;5;241m.\u001b[39mload_state_dict(state_dict)\n\u001b[0;32m     26\u001b[0m start_time \u001b[38;5;241m=\u001b[39m time\u001b[38;5;241m.\u001b[39mtime() \n",
      "File \u001b[1;32mc:\\Users\\sucic\\AppData\\Local\\Programs\\Python\\Python39\\lib\\site-packages\\torch\\serialization.py:809\u001b[0m, in \u001b[0;36mload\u001b[1;34m(f, map_location, pickle_module, weights_only, **pickle_load_args)\u001b[0m\n\u001b[0;32m    807\u001b[0m             \u001b[38;5;28;01mexcept\u001b[39;00m \u001b[38;5;167;01mRuntimeError\u001b[39;00m \u001b[38;5;28;01mas\u001b[39;00m e:\n\u001b[0;32m    808\u001b[0m                 \u001b[38;5;28;01mraise\u001b[39;00m pickle\u001b[38;5;241m.\u001b[39mUnpicklingError(UNSAFE_MESSAGE \u001b[38;5;241m+\u001b[39m \u001b[38;5;28mstr\u001b[39m(e)) \u001b[38;5;28;01mfrom\u001b[39;00m \u001b[38;5;28mNone\u001b[39m\n\u001b[1;32m--> 809\u001b[0m         \u001b[38;5;28;01mreturn\u001b[39;00m _load(opened_zipfile, map_location, pickle_module, \u001b[38;5;241m*\u001b[39m\u001b[38;5;241m*\u001b[39mpickle_load_args)\n\u001b[0;32m    810\u001b[0m \u001b[38;5;28;01mif\u001b[39;00m weights_only:\n\u001b[0;32m    811\u001b[0m     \u001b[38;5;28;01mtry\u001b[39;00m:\n",
      "File \u001b[1;32mc:\\Users\\sucic\\AppData\\Local\\Programs\\Python\\Python39\\lib\\site-packages\\torch\\serialization.py:1172\u001b[0m, in \u001b[0;36m_load\u001b[1;34m(zip_file, map_location, pickle_module, pickle_file, **pickle_load_args)\u001b[0m\n\u001b[0;32m   1170\u001b[0m unpickler \u001b[38;5;241m=\u001b[39m UnpicklerWrapper(data_file, \u001b[38;5;241m*\u001b[39m\u001b[38;5;241m*\u001b[39mpickle_load_args)\n\u001b[0;32m   1171\u001b[0m unpickler\u001b[38;5;241m.\u001b[39mpersistent_load \u001b[38;5;241m=\u001b[39m persistent_load\n\u001b[1;32m-> 1172\u001b[0m result \u001b[38;5;241m=\u001b[39m \u001b[43munpickler\u001b[49m\u001b[38;5;241;43m.\u001b[39;49m\u001b[43mload\u001b[49m\u001b[43m(\u001b[49m\u001b[43m)\u001b[49m\n\u001b[0;32m   1174\u001b[0m torch\u001b[38;5;241m.\u001b[39m_utils\u001b[38;5;241m.\u001b[39m_validate_loaded_sparse_tensors()\n\u001b[0;32m   1176\u001b[0m \u001b[38;5;28;01mreturn\u001b[39;00m result\n",
      "File \u001b[1;32mc:\\Users\\sucic\\AppData\\Local\\Programs\\Python\\Python39\\lib\\site-packages\\torch\\serialization.py:1142\u001b[0m, in \u001b[0;36m_load.<locals>.persistent_load\u001b[1;34m(saved_id)\u001b[0m\n\u001b[0;32m   1140\u001b[0m \u001b[38;5;28;01melse\u001b[39;00m:\n\u001b[0;32m   1141\u001b[0m     nbytes \u001b[38;5;241m=\u001b[39m numel \u001b[38;5;241m*\u001b[39m torch\u001b[38;5;241m.\u001b[39m_utils\u001b[38;5;241m.\u001b[39m_element_size(dtype)\n\u001b[1;32m-> 1142\u001b[0m     typed_storage \u001b[38;5;241m=\u001b[39m \u001b[43mload_tensor\u001b[49m\u001b[43m(\u001b[49m\u001b[43mdtype\u001b[49m\u001b[43m,\u001b[49m\u001b[43m \u001b[49m\u001b[43mnbytes\u001b[49m\u001b[43m,\u001b[49m\u001b[43m \u001b[49m\u001b[43mkey\u001b[49m\u001b[43m,\u001b[49m\u001b[43m \u001b[49m\u001b[43m_maybe_decode_ascii\u001b[49m\u001b[43m(\u001b[49m\u001b[43mlocation\u001b[49m\u001b[43m)\u001b[49m\u001b[43m)\u001b[49m\n\u001b[0;32m   1144\u001b[0m \u001b[38;5;28;01mreturn\u001b[39;00m typed_storage\n",
      "File \u001b[1;32mc:\\Users\\sucic\\AppData\\Local\\Programs\\Python\\Python39\\lib\\site-packages\\torch\\serialization.py:1116\u001b[0m, in \u001b[0;36m_load.<locals>.load_tensor\u001b[1;34m(dtype, numel, key, location)\u001b[0m\n\u001b[0;32m   1112\u001b[0m storage \u001b[38;5;241m=\u001b[39m zip_file\u001b[38;5;241m.\u001b[39mget_storage_from_record(name, numel, torch\u001b[38;5;241m.\u001b[39mUntypedStorage)\u001b[38;5;241m.\u001b[39m_typed_storage()\u001b[38;5;241m.\u001b[39m_untyped_storage\n\u001b[0;32m   1113\u001b[0m \u001b[38;5;66;03m# TODO: Once we decide to break serialization FC, we can\u001b[39;00m\n\u001b[0;32m   1114\u001b[0m \u001b[38;5;66;03m# stop wrapping with TypedStorage\u001b[39;00m\n\u001b[0;32m   1115\u001b[0m typed_storage \u001b[38;5;241m=\u001b[39m torch\u001b[38;5;241m.\u001b[39mstorage\u001b[38;5;241m.\u001b[39mTypedStorage(\n\u001b[1;32m-> 1116\u001b[0m     wrap_storage\u001b[38;5;241m=\u001b[39m\u001b[43mrestore_location\u001b[49m\u001b[43m(\u001b[49m\u001b[43mstorage\u001b[49m\u001b[43m,\u001b[49m\u001b[43m \u001b[49m\u001b[43mlocation\u001b[49m\u001b[43m)\u001b[49m,\n\u001b[0;32m   1117\u001b[0m     dtype\u001b[38;5;241m=\u001b[39mdtype,\n\u001b[0;32m   1118\u001b[0m     _internal\u001b[38;5;241m=\u001b[39m\u001b[38;5;28;01mTrue\u001b[39;00m)\n\u001b[0;32m   1120\u001b[0m \u001b[38;5;28;01mif\u001b[39;00m typed_storage\u001b[38;5;241m.\u001b[39m_data_ptr() \u001b[38;5;241m!=\u001b[39m \u001b[38;5;241m0\u001b[39m:\n\u001b[0;32m   1121\u001b[0m     loaded_storages[key] \u001b[38;5;241m=\u001b[39m typed_storage\n",
      "File \u001b[1;32mc:\\Users\\sucic\\AppData\\Local\\Programs\\Python\\Python39\\lib\\site-packages\\torch\\serialization.py:217\u001b[0m, in \u001b[0;36mdefault_restore_location\u001b[1;34m(storage, location)\u001b[0m\n\u001b[0;32m    215\u001b[0m \u001b[38;5;28;01mdef\u001b[39;00m \u001b[38;5;21mdefault_restore_location\u001b[39m(storage, location):\n\u001b[0;32m    216\u001b[0m     \u001b[38;5;28;01mfor\u001b[39;00m _, _, fn \u001b[38;5;129;01min\u001b[39;00m _package_registry:\n\u001b[1;32m--> 217\u001b[0m         result \u001b[38;5;241m=\u001b[39m \u001b[43mfn\u001b[49m\u001b[43m(\u001b[49m\u001b[43mstorage\u001b[49m\u001b[43m,\u001b[49m\u001b[43m \u001b[49m\u001b[43mlocation\u001b[49m\u001b[43m)\u001b[49m\n\u001b[0;32m    218\u001b[0m         \u001b[38;5;28;01mif\u001b[39;00m result \u001b[38;5;129;01mis\u001b[39;00m \u001b[38;5;129;01mnot\u001b[39;00m \u001b[38;5;28;01mNone\u001b[39;00m:\n\u001b[0;32m    219\u001b[0m             \u001b[38;5;28;01mreturn\u001b[39;00m result\n",
      "File \u001b[1;32mc:\\Users\\sucic\\AppData\\Local\\Programs\\Python\\Python39\\lib\\site-packages\\torch\\serialization.py:182\u001b[0m, in \u001b[0;36m_cuda_deserialize\u001b[1;34m(obj, location)\u001b[0m\n\u001b[0;32m    180\u001b[0m \u001b[38;5;28;01mdef\u001b[39;00m \u001b[38;5;21m_cuda_deserialize\u001b[39m(obj, location):\n\u001b[0;32m    181\u001b[0m     \u001b[38;5;28;01mif\u001b[39;00m location\u001b[38;5;241m.\u001b[39mstartswith(\u001b[38;5;124m'\u001b[39m\u001b[38;5;124mcuda\u001b[39m\u001b[38;5;124m'\u001b[39m):\n\u001b[1;32m--> 182\u001b[0m         device \u001b[38;5;241m=\u001b[39m \u001b[43mvalidate_cuda_device\u001b[49m\u001b[43m(\u001b[49m\u001b[43mlocation\u001b[49m\u001b[43m)\u001b[49m\n\u001b[0;32m    183\u001b[0m         \u001b[38;5;28;01mif\u001b[39;00m \u001b[38;5;28mgetattr\u001b[39m(obj, \u001b[38;5;124m\"\u001b[39m\u001b[38;5;124m_torch_load_uninitialized\u001b[39m\u001b[38;5;124m\"\u001b[39m, \u001b[38;5;28;01mFalse\u001b[39;00m):\n\u001b[0;32m    184\u001b[0m             \u001b[38;5;28;01mwith\u001b[39;00m torch\u001b[38;5;241m.\u001b[39mcuda\u001b[38;5;241m.\u001b[39mdevice(device):\n",
      "File \u001b[1;32mc:\\Users\\sucic\\AppData\\Local\\Programs\\Python\\Python39\\lib\\site-packages\\torch\\serialization.py:166\u001b[0m, in \u001b[0;36mvalidate_cuda_device\u001b[1;34m(location)\u001b[0m\n\u001b[0;32m    163\u001b[0m device \u001b[38;5;241m=\u001b[39m torch\u001b[38;5;241m.\u001b[39mcuda\u001b[38;5;241m.\u001b[39m_utils\u001b[38;5;241m.\u001b[39m_get_device_index(location, \u001b[38;5;28;01mTrue\u001b[39;00m)\n\u001b[0;32m    165\u001b[0m \u001b[38;5;28;01mif\u001b[39;00m \u001b[38;5;129;01mnot\u001b[39;00m torch\u001b[38;5;241m.\u001b[39mcuda\u001b[38;5;241m.\u001b[39mis_available():\n\u001b[1;32m--> 166\u001b[0m     \u001b[38;5;28;01mraise\u001b[39;00m \u001b[38;5;167;01mRuntimeError\u001b[39;00m(\u001b[38;5;124m'\u001b[39m\u001b[38;5;124mAttempting to deserialize object on a CUDA \u001b[39m\u001b[38;5;124m'\u001b[39m\n\u001b[0;32m    167\u001b[0m                        \u001b[38;5;124m'\u001b[39m\u001b[38;5;124mdevice but torch.cuda.is_available() is False. \u001b[39m\u001b[38;5;124m'\u001b[39m\n\u001b[0;32m    168\u001b[0m                        \u001b[38;5;124m'\u001b[39m\u001b[38;5;124mIf you are running on a CPU-only machine, \u001b[39m\u001b[38;5;124m'\u001b[39m\n\u001b[0;32m    169\u001b[0m                        \u001b[38;5;124m'\u001b[39m\u001b[38;5;124mplease use torch.load with map_location=torch.device(\u001b[39m\u001b[38;5;130;01m\\'\u001b[39;00m\u001b[38;5;124mcpu\u001b[39m\u001b[38;5;130;01m\\'\u001b[39;00m\u001b[38;5;124m) \u001b[39m\u001b[38;5;124m'\u001b[39m\n\u001b[0;32m    170\u001b[0m                        \u001b[38;5;124m'\u001b[39m\u001b[38;5;124mto map your storages to the CPU.\u001b[39m\u001b[38;5;124m'\u001b[39m)\n\u001b[0;32m    171\u001b[0m device_count \u001b[38;5;241m=\u001b[39m torch\u001b[38;5;241m.\u001b[39mcuda\u001b[38;5;241m.\u001b[39mdevice_count()\n\u001b[0;32m    172\u001b[0m \u001b[38;5;28;01mif\u001b[39;00m device \u001b[38;5;241m>\u001b[39m\u001b[38;5;241m=\u001b[39m device_count:\n",
      "\u001b[1;31mRuntimeError\u001b[0m: Attempting to deserialize object on a CUDA device but torch.cuda.is_available() is False. If you are running on a CPU-only machine, please use torch.load with map_location=torch.device('cpu') to map your storages to the CPU."
     ]
    }
   ],
   "source": [
    "weight_path = r\"../models/badnets/resnet18_ckpt_square_05_percent.pth\"\n",
    "model_name = 'resnet18'\n",
    "\n",
    "# test on clean data first\n",
    "CLEAN_DIR = \"../datasets/CIFAR10/cifar-10\"\n",
    "train_images = os.path.join(CLEAN_DIR, \"train\", \"data.npy\")\n",
    "train_labels = os.path.join(CLEAN_DIR, \"train\", \"labels.npy\")\n",
    "test_images = os.path.join(CLEAN_DIR, \"test\", \"data.npy\")\n",
    "test_labels = os.path.join(CLEAN_DIR, \"test\", \"labels.npy\")\n",
    "\n",
    "device = torch.device(\"cuda\" if torch.cuda.is_available() else \"cpu\")\n",
    "cifar_10_dataset= Data(train_images=train_images,train_labels=train_labels,\n",
    "                     test_images=test_images,test_labels=test_labels)\n",
    "cifar_10_dataset.normalize()\n",
    "cifar_10_dataset.images_to_tensor()\n",
    "\n",
    "train_data, train_labels, test_data, test_labels = cifar_10_dataset.permute_img_channels(permute_order=[0, 3, 1, 2])\n",
    "\n",
    "test_dataset = TensorDataset(test_data, test_labels)\n",
    "test_loader = DataLoader(test_dataset, batch_size=32, shuffle=False)\n",
    "\n",
    "model = load_model(cifar_10_dataset.num_classes,model_name,device,pretrained=True)\n",
    "state_dict = torch.load(weight_path)\n",
    "model.load_state_dict(state_dict)\n",
    "\n",
    "start_time = time.time() \n",
    "    \n",
    "average_loss, accuracy = evaluate_model(model, test_loader, device)\n",
    "print(f'Test Accuracy: {accuracy}%, average_loss: {average_loss}')\n",
    "\n",
    "end_time = time.time() \n",
    "evaluating_time = end_time - start_time\n",
    "formatted_evaluating_time = format_time(evaluating_time)\n",
    "print(f\"Evaluating time: {formatted_evaluating_time}\")"
   ]
  }
 ],
 "metadata": {
  "kernelspec": {
   "display_name": "Python 3",
   "language": "python",
   "name": "python3"
  },
  "language_info": {
   "codemirror_mode": {
    "name": "ipython",
    "version": 3
   },
   "file_extension": ".py",
   "mimetype": "text/x-python",
   "name": "python",
   "nbconvert_exporter": "python",
   "pygments_lexer": "ipython3",
   "version": "3.9.6"
  }
 },
 "nbformat": 4,
 "nbformat_minor": 5
}
